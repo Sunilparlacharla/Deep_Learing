{
  "nbformat": 4,
  "nbformat_minor": 0,
  "metadata": {
    "colab": {
      "provenance": [],
      "authorship_tag": "ABX9TyNcf85YmZlGH9tfgNvOegWA",
      "include_colab_link": true
    },
    "kernelspec": {
      "name": "python3",
      "display_name": "Python 3"
    },
    "language_info": {
      "name": "python"
    },
    "accelerator": "GPU",
    "gpuClass": "standard"
  },
  "cells": [
    {
      "cell_type": "markdown",
      "metadata": {
        "id": "view-in-github",
        "colab_type": "text"
      },
      "source": [
        "<a href=\"https://colab.research.google.com/github/Sunilparlacharla/Deep_Learing/blob/main/ANN_18DEC.ipynb\" target=\"_parent\"><img src=\"https://colab.research.google.com/assets/colab-badge.svg\" alt=\"Open In Colab\"/></a>"
      ]
    },
    {
      "cell_type": "code",
      "source": [
        "import tensorflow as tf\n",
        "import matplotlib.pyplot as plt\n",
        "import numpy as np\n",
        "from sklearn.model_selection import train_test_split\n",
        "from tensorflow import keras\n",
        "from tensorflow.keras import layers\n",
        "import pandas as pd"
      ],
      "metadata": {
        "id": "ualLmJoGdCl1"
      },
      "execution_count": 63,
      "outputs": []
    },
    {
      "cell_type": "code",
      "source": [
        "tf.__version__"
      ],
      "metadata": {
        "colab": {
          "base_uri": "https://localhost:8080/",
          "height": 36
        },
        "id": "KMr6N1okeJtG",
        "outputId": "4e315598-9ff3-48ea-f591-4aea7788a7b0"
      },
      "execution_count": 64,
      "outputs": [
        {
          "output_type": "execute_result",
          "data": {
            "text/plain": [
              "'2.9.2'"
            ],
            "application/vnd.google.colaboratory.intrinsic+json": {
              "type": "string"
            }
          },
          "metadata": {},
          "execution_count": 64
        }
      ]
    },
    {
      "cell_type": "code",
      "source": [
        "df=pd.read_csv(\"Churn_Modelling.csv\")\n",
        "df.head()"
      ],
      "metadata": {
        "colab": {
          "base_uri": "https://localhost:8080/",
          "height": 206
        },
        "id": "M2Zk0Q2LeJwH",
        "outputId": "23d2f644-269b-4cee-bc16-b342da5c9969"
      },
      "execution_count": 65,
      "outputs": [
        {
          "output_type": "execute_result",
          "data": {
            "text/plain": [
              "   RowNumber  CustomerId   Surname  CreditScore Geography  Gender  Age  \\\n",
              "0          1    15634602  Hargrave          619    France  Female   42   \n",
              "1          2    15647311      Hill          608     Spain  Female   41   \n",
              "2          3    15619304      Onio          502    France  Female   42   \n",
              "3          4    15701354      Boni          699    France  Female   39   \n",
              "4          5    15737888  Mitchell          850     Spain  Female   43   \n",
              "\n",
              "   Tenure    Balance  NumOfProducts  HasCrCard  IsActiveMember  \\\n",
              "0       2       0.00              1          1               1   \n",
              "1       1   83807.86              1          0               1   \n",
              "2       8  159660.80              3          1               0   \n",
              "3       1       0.00              2          0               0   \n",
              "4       2  125510.82              1          1               1   \n",
              "\n",
              "   EstimatedSalary  Exited  \n",
              "0        101348.88       1  \n",
              "1        112542.58       0  \n",
              "2        113931.57       1  \n",
              "3         93826.63       0  \n",
              "4         79084.10       0  "
            ],
            "text/html": [
              "\n",
              "  <div id=\"df-5d5903f7-fba6-4a56-86fb-2a6afb7386c1\">\n",
              "    <div class=\"colab-df-container\">\n",
              "      <div>\n",
              "<style scoped>\n",
              "    .dataframe tbody tr th:only-of-type {\n",
              "        vertical-align: middle;\n",
              "    }\n",
              "\n",
              "    .dataframe tbody tr th {\n",
              "        vertical-align: top;\n",
              "    }\n",
              "\n",
              "    .dataframe thead th {\n",
              "        text-align: right;\n",
              "    }\n",
              "</style>\n",
              "<table border=\"1\" class=\"dataframe\">\n",
              "  <thead>\n",
              "    <tr style=\"text-align: right;\">\n",
              "      <th></th>\n",
              "      <th>RowNumber</th>\n",
              "      <th>CustomerId</th>\n",
              "      <th>Surname</th>\n",
              "      <th>CreditScore</th>\n",
              "      <th>Geography</th>\n",
              "      <th>Gender</th>\n",
              "      <th>Age</th>\n",
              "      <th>Tenure</th>\n",
              "      <th>Balance</th>\n",
              "      <th>NumOfProducts</th>\n",
              "      <th>HasCrCard</th>\n",
              "      <th>IsActiveMember</th>\n",
              "      <th>EstimatedSalary</th>\n",
              "      <th>Exited</th>\n",
              "    </tr>\n",
              "  </thead>\n",
              "  <tbody>\n",
              "    <tr>\n",
              "      <th>0</th>\n",
              "      <td>1</td>\n",
              "      <td>15634602</td>\n",
              "      <td>Hargrave</td>\n",
              "      <td>619</td>\n",
              "      <td>France</td>\n",
              "      <td>Female</td>\n",
              "      <td>42</td>\n",
              "      <td>2</td>\n",
              "      <td>0.00</td>\n",
              "      <td>1</td>\n",
              "      <td>1</td>\n",
              "      <td>1</td>\n",
              "      <td>101348.88</td>\n",
              "      <td>1</td>\n",
              "    </tr>\n",
              "    <tr>\n",
              "      <th>1</th>\n",
              "      <td>2</td>\n",
              "      <td>15647311</td>\n",
              "      <td>Hill</td>\n",
              "      <td>608</td>\n",
              "      <td>Spain</td>\n",
              "      <td>Female</td>\n",
              "      <td>41</td>\n",
              "      <td>1</td>\n",
              "      <td>83807.86</td>\n",
              "      <td>1</td>\n",
              "      <td>0</td>\n",
              "      <td>1</td>\n",
              "      <td>112542.58</td>\n",
              "      <td>0</td>\n",
              "    </tr>\n",
              "    <tr>\n",
              "      <th>2</th>\n",
              "      <td>3</td>\n",
              "      <td>15619304</td>\n",
              "      <td>Onio</td>\n",
              "      <td>502</td>\n",
              "      <td>France</td>\n",
              "      <td>Female</td>\n",
              "      <td>42</td>\n",
              "      <td>8</td>\n",
              "      <td>159660.80</td>\n",
              "      <td>3</td>\n",
              "      <td>1</td>\n",
              "      <td>0</td>\n",
              "      <td>113931.57</td>\n",
              "      <td>1</td>\n",
              "    </tr>\n",
              "    <tr>\n",
              "      <th>3</th>\n",
              "      <td>4</td>\n",
              "      <td>15701354</td>\n",
              "      <td>Boni</td>\n",
              "      <td>699</td>\n",
              "      <td>France</td>\n",
              "      <td>Female</td>\n",
              "      <td>39</td>\n",
              "      <td>1</td>\n",
              "      <td>0.00</td>\n",
              "      <td>2</td>\n",
              "      <td>0</td>\n",
              "      <td>0</td>\n",
              "      <td>93826.63</td>\n",
              "      <td>0</td>\n",
              "    </tr>\n",
              "    <tr>\n",
              "      <th>4</th>\n",
              "      <td>5</td>\n",
              "      <td>15737888</td>\n",
              "      <td>Mitchell</td>\n",
              "      <td>850</td>\n",
              "      <td>Spain</td>\n",
              "      <td>Female</td>\n",
              "      <td>43</td>\n",
              "      <td>2</td>\n",
              "      <td>125510.82</td>\n",
              "      <td>1</td>\n",
              "      <td>1</td>\n",
              "      <td>1</td>\n",
              "      <td>79084.10</td>\n",
              "      <td>0</td>\n",
              "    </tr>\n",
              "  </tbody>\n",
              "</table>\n",
              "</div>\n",
              "      <button class=\"colab-df-convert\" onclick=\"convertToInteractive('df-5d5903f7-fba6-4a56-86fb-2a6afb7386c1')\"\n",
              "              title=\"Convert this dataframe to an interactive table.\"\n",
              "              style=\"display:none;\">\n",
              "        \n",
              "  <svg xmlns=\"http://www.w3.org/2000/svg\" height=\"24px\"viewBox=\"0 0 24 24\"\n",
              "       width=\"24px\">\n",
              "    <path d=\"M0 0h24v24H0V0z\" fill=\"none\"/>\n",
              "    <path d=\"M18.56 5.44l.94 2.06.94-2.06 2.06-.94-2.06-.94-.94-2.06-.94 2.06-2.06.94zm-11 1L8.5 8.5l.94-2.06 2.06-.94-2.06-.94L8.5 2.5l-.94 2.06-2.06.94zm10 10l.94 2.06.94-2.06 2.06-.94-2.06-.94-.94-2.06-.94 2.06-2.06.94z\"/><path d=\"M17.41 7.96l-1.37-1.37c-.4-.4-.92-.59-1.43-.59-.52 0-1.04.2-1.43.59L10.3 9.45l-7.72 7.72c-.78.78-.78 2.05 0 2.83L4 21.41c.39.39.9.59 1.41.59.51 0 1.02-.2 1.41-.59l7.78-7.78 2.81-2.81c.8-.78.8-2.07 0-2.86zM5.41 20L4 18.59l7.72-7.72 1.47 1.35L5.41 20z\"/>\n",
              "  </svg>\n",
              "      </button>\n",
              "      \n",
              "  <style>\n",
              "    .colab-df-container {\n",
              "      display:flex;\n",
              "      flex-wrap:wrap;\n",
              "      gap: 12px;\n",
              "    }\n",
              "\n",
              "    .colab-df-convert {\n",
              "      background-color: #E8F0FE;\n",
              "      border: none;\n",
              "      border-radius: 50%;\n",
              "      cursor: pointer;\n",
              "      display: none;\n",
              "      fill: #1967D2;\n",
              "      height: 32px;\n",
              "      padding: 0 0 0 0;\n",
              "      width: 32px;\n",
              "    }\n",
              "\n",
              "    .colab-df-convert:hover {\n",
              "      background-color: #E2EBFA;\n",
              "      box-shadow: 0px 1px 2px rgba(60, 64, 67, 0.3), 0px 1px 3px 1px rgba(60, 64, 67, 0.15);\n",
              "      fill: #174EA6;\n",
              "    }\n",
              "\n",
              "    [theme=dark] .colab-df-convert {\n",
              "      background-color: #3B4455;\n",
              "      fill: #D2E3FC;\n",
              "    }\n",
              "\n",
              "    [theme=dark] .colab-df-convert:hover {\n",
              "      background-color: #434B5C;\n",
              "      box-shadow: 0px 1px 3px 1px rgba(0, 0, 0, 0.15);\n",
              "      filter: drop-shadow(0px 1px 2px rgba(0, 0, 0, 0.3));\n",
              "      fill: #FFFFFF;\n",
              "    }\n",
              "  </style>\n",
              "\n",
              "      <script>\n",
              "        const buttonEl =\n",
              "          document.querySelector('#df-5d5903f7-fba6-4a56-86fb-2a6afb7386c1 button.colab-df-convert');\n",
              "        buttonEl.style.display =\n",
              "          google.colab.kernel.accessAllowed ? 'block' : 'none';\n",
              "\n",
              "        async function convertToInteractive(key) {\n",
              "          const element = document.querySelector('#df-5d5903f7-fba6-4a56-86fb-2a6afb7386c1');\n",
              "          const dataTable =\n",
              "            await google.colab.kernel.invokeFunction('convertToInteractive',\n",
              "                                                     [key], {});\n",
              "          if (!dataTable) return;\n",
              "\n",
              "          const docLinkHtml = 'Like what you see? Visit the ' +\n",
              "            '<a target=\"_blank\" href=https://colab.research.google.com/notebooks/data_table.ipynb>data table notebook</a>'\n",
              "            + ' to learn more about interactive tables.';\n",
              "          element.innerHTML = '';\n",
              "          dataTable['output_type'] = 'display_data';\n",
              "          await google.colab.output.renderOutput(dataTable, element);\n",
              "          const docLink = document.createElement('div');\n",
              "          docLink.innerHTML = docLinkHtml;\n",
              "          element.appendChild(docLink);\n",
              "        }\n",
              "      </script>\n",
              "    </div>\n",
              "  </div>\n",
              "  "
            ]
          },
          "metadata": {},
          "execution_count": 65
        }
      ]
    },
    {
      "cell_type": "code",
      "source": [
        "## Divide the dataset into independent and dependent features\n",
        "\n",
        "X=df.iloc[:,3:13]\n",
        "y=df.iloc[:,13]"
      ],
      "metadata": {
        "id": "jirfPbJHeJy1"
      },
      "execution_count": 66,
      "outputs": []
    },
    {
      "cell_type": "code",
      "source": [
        "## Ferature Engineering \n",
        "geography=pd.get_dummies(X['Geography'],drop_first=True)\n",
        "gender=pd.get_dummies(X['Gender'],drop_first=True)"
      ],
      "metadata": {
        "id": "Fm6WEk2Okoj4"
      },
      "execution_count": 67,
      "outputs": []
    },
    {
      "cell_type": "code",
      "source": [
        "X=X.drop(['Geography','Gender'],axis=1)"
      ],
      "metadata": {
        "id": "afrV9BZPlSkL"
      },
      "execution_count": 68,
      "outputs": []
    },
    {
      "cell_type": "code",
      "source": [
        "X=pd.concat([X,geography,gender],axis=1) "
      ],
      "metadata": {
        "id": "CiNrjA7zk2HS"
      },
      "execution_count": 69,
      "outputs": []
    },
    {
      "cell_type": "code",
      "source": [
        "X.head()"
      ],
      "metadata": {
        "colab": {
          "base_uri": "https://localhost:8080/",
          "height": 206
        },
        "id": "gzAf5b60k2Ki",
        "outputId": "7e299be2-eddf-4584-b5de-3c69ae2f5976"
      },
      "execution_count": 70,
      "outputs": [
        {
          "output_type": "execute_result",
          "data": {
            "text/plain": [
              "   CreditScore  Age  Tenure    Balance  NumOfProducts  HasCrCard  \\\n",
              "0          619   42       2       0.00              1          1   \n",
              "1          608   41       1   83807.86              1          0   \n",
              "2          502   42       8  159660.80              3          1   \n",
              "3          699   39       1       0.00              2          0   \n",
              "4          850   43       2  125510.82              1          1   \n",
              "\n",
              "   IsActiveMember  EstimatedSalary  Germany  Spain  Male  \n",
              "0               1        101348.88        0      0     0  \n",
              "1               1        112542.58        0      1     0  \n",
              "2               0        113931.57        0      0     0  \n",
              "3               0         93826.63        0      0     0  \n",
              "4               1         79084.10        0      1     0  "
            ],
            "text/html": [
              "\n",
              "  <div id=\"df-5bc5c758-8299-486b-9073-691cec473daf\">\n",
              "    <div class=\"colab-df-container\">\n",
              "      <div>\n",
              "<style scoped>\n",
              "    .dataframe tbody tr th:only-of-type {\n",
              "        vertical-align: middle;\n",
              "    }\n",
              "\n",
              "    .dataframe tbody tr th {\n",
              "        vertical-align: top;\n",
              "    }\n",
              "\n",
              "    .dataframe thead th {\n",
              "        text-align: right;\n",
              "    }\n",
              "</style>\n",
              "<table border=\"1\" class=\"dataframe\">\n",
              "  <thead>\n",
              "    <tr style=\"text-align: right;\">\n",
              "      <th></th>\n",
              "      <th>CreditScore</th>\n",
              "      <th>Age</th>\n",
              "      <th>Tenure</th>\n",
              "      <th>Balance</th>\n",
              "      <th>NumOfProducts</th>\n",
              "      <th>HasCrCard</th>\n",
              "      <th>IsActiveMember</th>\n",
              "      <th>EstimatedSalary</th>\n",
              "      <th>Germany</th>\n",
              "      <th>Spain</th>\n",
              "      <th>Male</th>\n",
              "    </tr>\n",
              "  </thead>\n",
              "  <tbody>\n",
              "    <tr>\n",
              "      <th>0</th>\n",
              "      <td>619</td>\n",
              "      <td>42</td>\n",
              "      <td>2</td>\n",
              "      <td>0.00</td>\n",
              "      <td>1</td>\n",
              "      <td>1</td>\n",
              "      <td>1</td>\n",
              "      <td>101348.88</td>\n",
              "      <td>0</td>\n",
              "      <td>0</td>\n",
              "      <td>0</td>\n",
              "    </tr>\n",
              "    <tr>\n",
              "      <th>1</th>\n",
              "      <td>608</td>\n",
              "      <td>41</td>\n",
              "      <td>1</td>\n",
              "      <td>83807.86</td>\n",
              "      <td>1</td>\n",
              "      <td>0</td>\n",
              "      <td>1</td>\n",
              "      <td>112542.58</td>\n",
              "      <td>0</td>\n",
              "      <td>1</td>\n",
              "      <td>0</td>\n",
              "    </tr>\n",
              "    <tr>\n",
              "      <th>2</th>\n",
              "      <td>502</td>\n",
              "      <td>42</td>\n",
              "      <td>8</td>\n",
              "      <td>159660.80</td>\n",
              "      <td>3</td>\n",
              "      <td>1</td>\n",
              "      <td>0</td>\n",
              "      <td>113931.57</td>\n",
              "      <td>0</td>\n",
              "      <td>0</td>\n",
              "      <td>0</td>\n",
              "    </tr>\n",
              "    <tr>\n",
              "      <th>3</th>\n",
              "      <td>699</td>\n",
              "      <td>39</td>\n",
              "      <td>1</td>\n",
              "      <td>0.00</td>\n",
              "      <td>2</td>\n",
              "      <td>0</td>\n",
              "      <td>0</td>\n",
              "      <td>93826.63</td>\n",
              "      <td>0</td>\n",
              "      <td>0</td>\n",
              "      <td>0</td>\n",
              "    </tr>\n",
              "    <tr>\n",
              "      <th>4</th>\n",
              "      <td>850</td>\n",
              "      <td>43</td>\n",
              "      <td>2</td>\n",
              "      <td>125510.82</td>\n",
              "      <td>1</td>\n",
              "      <td>1</td>\n",
              "      <td>1</td>\n",
              "      <td>79084.10</td>\n",
              "      <td>0</td>\n",
              "      <td>1</td>\n",
              "      <td>0</td>\n",
              "    </tr>\n",
              "  </tbody>\n",
              "</table>\n",
              "</div>\n",
              "      <button class=\"colab-df-convert\" onclick=\"convertToInteractive('df-5bc5c758-8299-486b-9073-691cec473daf')\"\n",
              "              title=\"Convert this dataframe to an interactive table.\"\n",
              "              style=\"display:none;\">\n",
              "        \n",
              "  <svg xmlns=\"http://www.w3.org/2000/svg\" height=\"24px\"viewBox=\"0 0 24 24\"\n",
              "       width=\"24px\">\n",
              "    <path d=\"M0 0h24v24H0V0z\" fill=\"none\"/>\n",
              "    <path d=\"M18.56 5.44l.94 2.06.94-2.06 2.06-.94-2.06-.94-.94-2.06-.94 2.06-2.06.94zm-11 1L8.5 8.5l.94-2.06 2.06-.94-2.06-.94L8.5 2.5l-.94 2.06-2.06.94zm10 10l.94 2.06.94-2.06 2.06-.94-2.06-.94-.94-2.06-.94 2.06-2.06.94z\"/><path d=\"M17.41 7.96l-1.37-1.37c-.4-.4-.92-.59-1.43-.59-.52 0-1.04.2-1.43.59L10.3 9.45l-7.72 7.72c-.78.78-.78 2.05 0 2.83L4 21.41c.39.39.9.59 1.41.59.51 0 1.02-.2 1.41-.59l7.78-7.78 2.81-2.81c.8-.78.8-2.07 0-2.86zM5.41 20L4 18.59l7.72-7.72 1.47 1.35L5.41 20z\"/>\n",
              "  </svg>\n",
              "      </button>\n",
              "      \n",
              "  <style>\n",
              "    .colab-df-container {\n",
              "      display:flex;\n",
              "      flex-wrap:wrap;\n",
              "      gap: 12px;\n",
              "    }\n",
              "\n",
              "    .colab-df-convert {\n",
              "      background-color: #E8F0FE;\n",
              "      border: none;\n",
              "      border-radius: 50%;\n",
              "      cursor: pointer;\n",
              "      display: none;\n",
              "      fill: #1967D2;\n",
              "      height: 32px;\n",
              "      padding: 0 0 0 0;\n",
              "      width: 32px;\n",
              "    }\n",
              "\n",
              "    .colab-df-convert:hover {\n",
              "      background-color: #E2EBFA;\n",
              "      box-shadow: 0px 1px 2px rgba(60, 64, 67, 0.3), 0px 1px 3px 1px rgba(60, 64, 67, 0.15);\n",
              "      fill: #174EA6;\n",
              "    }\n",
              "\n",
              "    [theme=dark] .colab-df-convert {\n",
              "      background-color: #3B4455;\n",
              "      fill: #D2E3FC;\n",
              "    }\n",
              "\n",
              "    [theme=dark] .colab-df-convert:hover {\n",
              "      background-color: #434B5C;\n",
              "      box-shadow: 0px 1px 3px 1px rgba(0, 0, 0, 0.15);\n",
              "      filter: drop-shadow(0px 1px 2px rgba(0, 0, 0, 0.3));\n",
              "      fill: #FFFFFF;\n",
              "    }\n",
              "  </style>\n",
              "\n",
              "      <script>\n",
              "        const buttonEl =\n",
              "          document.querySelector('#df-5bc5c758-8299-486b-9073-691cec473daf button.colab-df-convert');\n",
              "        buttonEl.style.display =\n",
              "          google.colab.kernel.accessAllowed ? 'block' : 'none';\n",
              "\n",
              "        async function convertToInteractive(key) {\n",
              "          const element = document.querySelector('#df-5bc5c758-8299-486b-9073-691cec473daf');\n",
              "          const dataTable =\n",
              "            await google.colab.kernel.invokeFunction('convertToInteractive',\n",
              "                                                     [key], {});\n",
              "          if (!dataTable) return;\n",
              "\n",
              "          const docLinkHtml = 'Like what you see? Visit the ' +\n",
              "            '<a target=\"_blank\" href=https://colab.research.google.com/notebooks/data_table.ipynb>data table notebook</a>'\n",
              "            + ' to learn more about interactive tables.';\n",
              "          element.innerHTML = '';\n",
              "          dataTable['output_type'] = 'display_data';\n",
              "          await google.colab.output.renderOutput(dataTable, element);\n",
              "          const docLink = document.createElement('div');\n",
              "          docLink.innerHTML = docLinkHtml;\n",
              "          element.appendChild(docLink);\n",
              "        }\n",
              "      </script>\n",
              "    </div>\n",
              "  </div>\n",
              "  "
            ]
          },
          "metadata": {},
          "execution_count": 70
        }
      ]
    },
    {
      "cell_type": "code",
      "source": [
        "#Splitting the dataset into Training set and Test Set\n",
        "from sklearn.model_selection import train_test_split\n",
        "\n",
        "X_train,X_test,y_train,y_test=train_test_split(X,y,test_size=0.2,random_state=0)"
      ],
      "metadata": {
        "id": "fs-iJPBsk2Ri"
      },
      "execution_count": 71,
      "outputs": []
    },
    {
      "cell_type": "code",
      "source": [
        "from sklearn.preprocessing import StandardScaler\n",
        "sc =StandardScaler()\n",
        "X_train=sc.fit_transform(X_train)\n",
        "X_test=sc.transform(X_test)"
      ],
      "metadata": {
        "id": "mYw2zOPak2U1"
      },
      "execution_count": 72,
      "outputs": []
    },
    {
      "cell_type": "code",
      "source": [
        "X_train"
      ],
      "metadata": {
        "colab": {
          "base_uri": "https://localhost:8080/"
        },
        "id": "DXoZSGYMk2Xt",
        "outputId": "76e3c0a6-7324-4aee-a180-783691a5ce5b"
      },
      "execution_count": 73,
      "outputs": [
        {
          "output_type": "execute_result",
          "data": {
            "text/plain": [
              "array([[ 0.16958176, -0.46460796,  0.00666099, ..., -0.5698444 ,\n",
              "         1.74309049, -1.09168714],\n",
              "       [-2.30455945,  0.30102557, -1.37744033, ...,  1.75486502,\n",
              "        -0.57369368,  0.91601335],\n",
              "       [-1.19119591, -0.94312892, -1.031415  , ..., -0.5698444 ,\n",
              "        -0.57369368, -1.09168714],\n",
              "       ...,\n",
              "       [ 0.9015152 , -0.36890377,  0.00666099, ..., -0.5698444 ,\n",
              "        -0.57369368,  0.91601335],\n",
              "       [-0.62420521, -0.08179119,  1.39076231, ..., -0.5698444 ,\n",
              "         1.74309049, -1.09168714],\n",
              "       [-0.28401079,  0.87525072, -1.37744033, ...,  1.75486502,\n",
              "        -0.57369368, -1.09168714]])"
            ]
          },
          "metadata": {},
          "execution_count": 73
        }
      ]
    },
    {
      "cell_type": "code",
      "source": [
        "X_test"
      ],
      "metadata": {
        "colab": {
          "base_uri": "https://localhost:8080/"
        },
        "id": "EqHM8ZXTk2aw",
        "outputId": "c83d6dad-67e4-4f59-f755-39bc95dac9aa"
      },
      "execution_count": 74,
      "outputs": [
        {
          "output_type": "execute_result",
          "data": {
            "text/plain": [
              "array([[-0.55204276, -0.36890377,  1.04473698, ...,  1.75486502,\n",
              "        -0.57369368, -1.09168714],\n",
              "       [-1.31490297,  0.10961719, -1.031415  , ..., -0.5698444 ,\n",
              "        -0.57369368, -1.09168714],\n",
              "       [ 0.57162971,  0.30102557,  1.04473698, ..., -0.5698444 ,\n",
              "         1.74309049, -1.09168714],\n",
              "       ...,\n",
              "       [-0.74791227, -0.27319958, -1.37744033, ..., -0.5698444 ,\n",
              "         1.74309049,  0.91601335],\n",
              "       [-0.00566991, -0.46460796, -0.33936434, ...,  1.75486502,\n",
              "        -0.57369368,  0.91601335],\n",
              "       [-0.79945688, -0.84742473,  1.04473698, ...,  1.75486502,\n",
              "        -0.57369368,  0.91601335]])"
            ]
          },
          "metadata": {},
          "execution_count": 74
        }
      ]
    },
    {
      "cell_type": "code",
      "source": [
        "## Part 2 Now lets create the ANN\n",
        "from tensorflow.keras.models import Sequential\n",
        "from tensorflow.keras.layers import Dense\n",
        "from tensorflow.keras.layers import LeakyReLU,PReLU,ELU,ReLU\n",
        "from tensorflow.keras.layers import Dropout"
      ],
      "metadata": {
        "id": "nBIW6yi-k2dy"
      },
      "execution_count": 75,
      "outputs": []
    },
    {
      "cell_type": "code",
      "source": [
        "### Lets initialize the ANN\n",
        "classifier=Sequential()"
      ],
      "metadata": {
        "id": "NaD1LAB2k2jt"
      },
      "execution_count": 76,
      "outputs": []
    },
    {
      "cell_type": "code",
      "source": [
        "classifier.add(Dense(10,input_shape=(11,),activation='relu'))"
      ],
      "metadata": {
        "id": "fW-56xQXk2mi"
      },
      "execution_count": 77,
      "outputs": []
    },
    {
      "cell_type": "code",
      "source": [
        "classifier"
      ],
      "metadata": {
        "colab": {
          "base_uri": "https://localhost:8080/"
        },
        "id": "POHYv1YHrGfW",
        "outputId": "c03c1950-53a6-4ebf-c51c-545b3760c19a"
      },
      "execution_count": 78,
      "outputs": [
        {
          "output_type": "execute_result",
          "data": {
            "text/plain": [
              "<keras.engine.sequential.Sequential at 0x7fb53c83f460>"
            ]
          },
          "metadata": {},
          "execution_count": 78
        }
      ]
    },
    {
      "cell_type": "code",
      "source": [
        "# adding the first hidden layer\n",
        "classifier.add(Dense(units=10,activation='relu'))\n",
        "classifier.add(Dropout(0.2))"
      ],
      "metadata": {
        "id": "806UNVp1rGiO"
      },
      "execution_count": 79,
      "outputs": []
    },
    {
      "cell_type": "code",
      "source": [
        "##adding the second hidden layer\n",
        "classifier.add(Dense(units=10,activation='relu'))\n",
        "classifier.add(Dropout(0.3))"
      ],
      "metadata": {
        "id": "vPddrDdSrGvG"
      },
      "execution_count": 80,
      "outputs": []
    },
    {
      "cell_type": "code",
      "source": [
        "##  Adding the output layer\n",
        "classifier.add(Dense(1,activation='sigmoid'))"
      ],
      "metadata": {
        "id": "61cht-KbrGyb"
      },
      "execution_count": 81,
      "outputs": []
    },
    {
      "cell_type": "code",
      "source": [
        "classifier.summary()"
      ],
      "metadata": {
        "colab": {
          "base_uri": "https://localhost:8080/"
        },
        "id": "COsKVI6NrG1Z",
        "outputId": "7376cd12-bc76-4b46-c052-774590e36ccd"
      },
      "execution_count": 82,
      "outputs": [
        {
          "output_type": "stream",
          "name": "stdout",
          "text": [
            "Model: \"sequential_4\"\n",
            "_________________________________________________________________\n",
            " Layer (type)                Output Shape              Param #   \n",
            "=================================================================\n",
            " dense_8 (Dense)             (None, 10)                120       \n",
            "                                                                 \n",
            " dense_9 (Dense)             (None, 10)                110       \n",
            "                                                                 \n",
            " dropout (Dropout)           (None, 10)                0         \n",
            "                                                                 \n",
            " dense_10 (Dense)            (None, 10)                110       \n",
            "                                                                 \n",
            " dropout_1 (Dropout)         (None, 10)                0         \n",
            "                                                                 \n",
            " dense_11 (Dense)            (None, 1)                 11        \n",
            "                                                                 \n",
            "=================================================================\n",
            "Total params: 351\n",
            "Trainable params: 351\n",
            "Non-trainable params: 0\n",
            "_________________________________________________________________\n"
          ]
        }
      ]
    },
    {
      "cell_type": "code",
      "source": [
        "classifier.compile(optimizer=opt,loss='binary_crossentropy',metrics=['accuracy'])"
      ],
      "metadata": {
        "id": "wH0dlxe9rG4u"
      },
      "execution_count": 83,
      "outputs": []
    },
    {
      "cell_type": "code",
      "source": [
        "opt=tf.keras.optimizers.Adam(learning_rate=0.01)"
      ],
      "metadata": {
        "id": "Bs6PBbbOwUQP"
      },
      "execution_count": 84,
      "outputs": []
    },
    {
      "cell_type": "code",
      "source": [
        "## Early Stopping\n",
        "import tensorflow as tf\n",
        "early_stopping=tf.keras.callbacks.EarlyStopping(\n",
        "    monitor=\"val_loss\",\n",
        "    patience=5\n",
        "   \n",
        ")"
      ],
      "metadata": {
        "id": "nwpOVuKDwi9k"
      },
      "execution_count": 85,
      "outputs": []
    },
    {
      "cell_type": "code",
      "source": [
        "model_history=classifier.fit(X_train,y_train,validation_data=(X_test,y_test),batch_size=10,epochs=100,callbacks=early_stopping)"
      ],
      "metadata": {
        "colab": {
          "base_uri": "https://localhost:8080/"
        },
        "id": "47Uz67lswjAa",
        "outputId": "b66343c5-fb1b-4fd0-f01b-e03e076690ae"
      },
      "execution_count": 86,
      "outputs": [
        {
          "output_type": "stream",
          "name": "stdout",
          "text": [
            "Epoch 1/100\n",
            "800/800 [==============================] - 3s 3ms/step - loss: 0.4560 - accuracy: 0.7956 - val_loss: 0.4055 - val_accuracy: 0.7975\n",
            "Epoch 2/100\n",
            "800/800 [==============================] - 2s 3ms/step - loss: 0.4207 - accuracy: 0.7960 - val_loss: 0.3902 - val_accuracy: 0.7975\n",
            "Epoch 3/100\n",
            "800/800 [==============================] - 2s 3ms/step - loss: 0.4085 - accuracy: 0.8020 - val_loss: 0.3867 - val_accuracy: 0.8390\n",
            "Epoch 4/100\n",
            "800/800 [==============================] - 2s 3ms/step - loss: 0.4103 - accuracy: 0.8199 - val_loss: 0.3758 - val_accuracy: 0.8220\n",
            "Epoch 5/100\n",
            "800/800 [==============================] - 2s 3ms/step - loss: 0.3964 - accuracy: 0.8438 - val_loss: 0.3801 - val_accuracy: 0.8480\n",
            "Epoch 6/100\n",
            "800/800 [==============================] - 2s 3ms/step - loss: 0.3989 - accuracy: 0.8465 - val_loss: 0.3838 - val_accuracy: 0.8465\n",
            "Epoch 7/100\n",
            "800/800 [==============================] - 2s 3ms/step - loss: 0.4016 - accuracy: 0.8388 - val_loss: 0.3763 - val_accuracy: 0.8595\n",
            "Epoch 8/100\n",
            "800/800 [==============================] - 2s 3ms/step - loss: 0.3972 - accuracy: 0.8426 - val_loss: 0.3729 - val_accuracy: 0.8570\n",
            "Epoch 9/100\n",
            "800/800 [==============================] - 2s 3ms/step - loss: 0.3978 - accuracy: 0.8454 - val_loss: 0.3832 - val_accuracy: 0.8570\n",
            "Epoch 10/100\n",
            "800/800 [==============================] - 2s 3ms/step - loss: 0.3930 - accuracy: 0.8476 - val_loss: 0.3677 - val_accuracy: 0.8655\n",
            "Epoch 11/100\n",
            "800/800 [==============================] - 2s 3ms/step - loss: 0.3972 - accuracy: 0.8500 - val_loss: 0.3648 - val_accuracy: 0.8600\n",
            "Epoch 12/100\n",
            "800/800 [==============================] - 2s 3ms/step - loss: 0.3928 - accuracy: 0.8486 - val_loss: 0.3628 - val_accuracy: 0.8665\n",
            "Epoch 13/100\n",
            "800/800 [==============================] - 2s 3ms/step - loss: 0.3941 - accuracy: 0.8499 - val_loss: 0.3776 - val_accuracy: 0.8520\n",
            "Epoch 14/100\n",
            "800/800 [==============================] - 2s 3ms/step - loss: 0.3925 - accuracy: 0.8482 - val_loss: 0.3693 - val_accuracy: 0.8610\n",
            "Epoch 15/100\n",
            "800/800 [==============================] - 3s 3ms/step - loss: 0.3926 - accuracy: 0.8470 - val_loss: 0.3808 - val_accuracy: 0.8630\n",
            "Epoch 16/100\n",
            "800/800 [==============================] - 2s 3ms/step - loss: 0.3899 - accuracy: 0.8512 - val_loss: 0.3682 - val_accuracy: 0.8570\n",
            "Epoch 17/100\n",
            "800/800 [==============================] - 3s 3ms/step - loss: 0.3950 - accuracy: 0.8494 - val_loss: 0.3892 - val_accuracy: 0.8515\n"
          ]
        }
      ]
    },
    {
      "cell_type": "code",
      "source": [
        "model_history.history.keys()"
      ],
      "metadata": {
        "colab": {
          "base_uri": "https://localhost:8080/"
        },
        "id": "UXGuOtD9wjDJ",
        "outputId": "a0d615c6-5728-467f-f7b1-143608193f9b"
      },
      "execution_count": 87,
      "outputs": [
        {
          "output_type": "execute_result",
          "data": {
            "text/plain": [
              "dict_keys(['loss', 'accuracy', 'val_loss', 'val_accuracy'])"
            ]
          },
          "metadata": {},
          "execution_count": 87
        }
      ]
    },
    {
      "cell_type": "code",
      "source": [
        "# summarize history for accuracy\n",
        "plt.plot(model_history.history['accuracy'])\n",
        "plt.plot(model_history.history['val_accuracy'])\n",
        "plt.title('model accuracy')\n",
        "plt.ylabel('accuracy')\n",
        "plt.xlabel('epoch')\n",
        "plt.legend(['train', 'test'], loc='upper left')\n",
        "plt.show()"
      ],
      "metadata": {
        "colab": {
          "base_uri": "https://localhost:8080/",
          "height": 295
        },
        "id": "9RizAtVKwjGJ",
        "outputId": "af31a66c-38f7-4df3-9554-ed3fa06784a9"
      },
      "execution_count": 88,
      "outputs": [
        {
          "output_type": "display_data",
          "data": {
            "text/plain": [
              "<Figure size 432x288 with 1 Axes>"
            ],
            "image/png": "[encoded data removed]"
          },
          "metadata": {
            "needs_background": "light"
          }
        }
      ]
    },
    {
      "cell_type": "code",
      "source": [
        "# summarize history for loss\n",
        "plt.plot(model_history.history['loss'])\n",
        "plt.plot(model_history.history['val_loss'])\n",
        "plt.title('model loss')\n",
        "plt.ylabel('loss')\n",
        "plt.xlabel('epoch')\n",
        "plt.legend(['train', 'test'], loc='upper left')\n",
        "plt.show()"
      ],
      "metadata": {
        "colab": {
          "base_uri": "https://localhost:8080/",
          "height": 295
        },
        "id": "pOSAO6uiwjI7",
        "outputId": "8b6aae92-812c-4fad-c65a-020302856b48"
      },
      "execution_count": 89,
      "outputs": [
        {
          "output_type": "display_data",
          "data": {
            "text/plain": [
              "<Figure size 432x288 with 1 Axes>"
            ],
            "image/png": "[encoded data removed]"
          },
          "metadata": {
            "needs_background": "light"
          }
        }
      ]
    },
    {
      "cell_type": "code",
      "source": [
        "# Part 3 - Making the predictions and evaluating the model\n",
        "\n",
        "# Predicting the Test set results\n",
        "y_pred = classifier.predict(X_test)\n",
        "y_pred = (y_pred >= 0.5)"
      ],
      "metadata": {
        "colab": {
          "base_uri": "https://localhost:8080/"
        },
        "id": "4iTqCtMWwjLd",
        "outputId": "bdbf354a-5e9a-4d44-e55d-1af2669c6ac0"
      },
      "execution_count": 90,
      "outputs": [
        {
          "output_type": "stream",
          "name": "stdout",
          "text": [
            "63/63 [==============================] - 0s 1ms/step\n"
          ]
        }
      ]
    },
    {
      "cell_type": "code",
      "source": [
        "## make the confusion matrix\n",
        "from sklearn.metrics import confusion_matrix\n",
        "cm=confusion_matrix(y_test,y_pred)\n",
        "cm"
      ],
      "metadata": {
        "colab": {
          "base_uri": "https://localhost:8080/"
        },
        "id": "NTiDJ2d2wjOO",
        "outputId": "8e93a9e3-f683-4232-c782-ebdb74315b9a"
      },
      "execution_count": 91,
      "outputs": [
        {
          "output_type": "execute_result",
          "data": {
            "text/plain": [
              "array([[1478,  117],\n",
              "       [ 180,  225]])"
            ]
          },
          "metadata": {},
          "execution_count": 91
        }
      ]
    },
    {
      "cell_type": "code",
      "source": [
        "## Calculate the accuracy\n",
        "from sklearn.metrics import accuracy_score\n",
        "score=accuracy_score(y_pred,y_test)\n",
        "score"
      ],
      "metadata": {
        "colab": {
          "base_uri": "https://localhost:8080/"
        },
        "id": "JPUVeOWZzUTc",
        "outputId": "8764f33c-913d-4c6d-dedc-aa086a73af05"
      },
      "execution_count": 92,
      "outputs": [
        {
          "output_type": "execute_result",
          "data": {
            "text/plain": [
              "0.8515"
            ]
          },
          "metadata": {},
          "execution_count": 92
        }
      ]
    },
    {
      "cell_type": "code",
      "source": [
        "##get the weights\n",
        "classifier.get_weights()"
      ],
      "metadata": {
        "colab": {
          "base_uri": "https://localhost:8080/"
        },
        "id": "4NcGP2nwzVdQ",
        "outputId": "daafe6a3-9484-4bba-e402-d029603d1c89"
      },
      "execution_count": 93,
      "outputs": [
        {
          "output_type": "execute_result",
          "data": {
            "text/plain": [
              "[array([[ 2.42305979e-01,  1.45577267e-01,  2.09017217e-01,\n",
              "         -1.78414613e-01, -2.28520520e-02,  3.88336331e-01,\n",
              "          8.37920830e-02, -1.49632514e-01,  3.01551539e-02,\n",
              "         -9.08657834e-02],\n",
              "        [-5.23218870e-01,  1.69993722e+00, -8.55573118e-01,\n",
              "         -1.57774448e-01,  4.39785756e-02, -9.08815682e-01,\n",
              "         -2.99650729e-01, -2.27220988e+00, -8.64465654e-01,\n",
              "          1.60275710e+00],\n",
              "        [ 1.07444274e+00,  3.23496349e-02,  7.75200546e-01,\n",
              "         -2.26297006e-01,  5.37983216e-02, -1.80687442e-01,\n",
              "         -1.20724946e-01, -1.90396924e-02, -1.52233720e-01,\n",
              "         -2.92969555e-01],\n",
              "        [-3.88122350e-01, -5.73023677e-01, -1.26818430e+00,\n",
              "          5.85249722e-01, -2.60939837e+00, -1.60674107e+00,\n",
              "          8.91803324e-01, -8.46976042e-01, -1.30659568e+00,\n",
              "          3.16006005e-01],\n",
              "        [ 4.97274041e-01,  9.51349735e-03,  3.27218026e-01,\n",
              "          3.16439939e+00, -2.87911201e+00, -6.36934221e-01,\n",
              "          8.22749257e-01,  3.63720357e-01,  1.09491706e+00,\n",
              "         -3.92531097e-01],\n",
              "        [ 4.45317477e-01, -3.26781154e-01, -7.77549343e-04,\n",
              "         -3.16572607e-01, -9.27704498e-02,  1.74670577e-01,\n",
              "         -5.36192179e-01, -3.44495177e-02,  5.89741647e-01,\n",
              "          1.84178621e-01],\n",
              "        [ 1.18754053e+00,  5.68861544e-01,  1.32548261e+00,\n",
              "         -1.25640616e-01, -4.93378527e-02,  8.82003129e-01,\n",
              "         -1.45098716e-01,  2.15129763e-01,  6.01677239e-01,\n",
              "         -2.58273959e+00],\n",
              "        [ 7.29609668e-01, -2.24879429e-01, -3.03267717e-01,\n",
              "          4.83535796e-01, -1.24275722e-01, -2.64447749e-01,\n",
              "          1.67247448e-02, -1.59592684e-02,  9.02818441e-01,\n",
              "         -1.05681315e-01],\n",
              "        [-5.19074984e-02, -3.00374269e-01, -1.84995949e-01,\n",
              "         -1.96060628e-01,  1.57526600e+00,  1.28947639e+00,\n",
              "         -2.52305299e-01, -2.67243356e-01,  6.50969863e-01,\n",
              "         -1.24189921e-01],\n",
              "        [-6.94988146e-02,  2.11448267e-01,  4.49112028e-01,\n",
              "          2.97633648e-01,  3.57964963e-01, -4.56422776e-01,\n",
              "          6.00887239e-01, -2.01207027e-01,  3.33200991e-01,\n",
              "          1.16153717e-01],\n",
              "        [ 1.54932654e+00,  7.14057311e-02, -1.26438528e-01,\n",
              "         -2.71243811e-01,  3.37829962e-02,  1.53580934e-01,\n",
              "         -2.94738233e-01,  5.51346421e-01,  8.09234500e-01,\n",
              "          1.83883399e-01]], dtype=float32),\n",
              " array([-2.9304843 , -3.7474058 , -0.57738054, -3.7676792 , -1.10368   ,\n",
              "        -2.4069908 , -2.4393911 ,  2.1688352 , -2.085888  , -3.1357741 ],\n",
              "       dtype=float32),\n",
              " array([[ 0.14427215,  0.09107408, -0.04755706, -1.622198  ,  0.7280095 ,\n",
              "          0.6217943 ,  0.7300807 , -0.61291116, -0.6198005 , -0.08459397],\n",
              "        [ 1.5520241 , -0.13504566, -0.21442446, -0.2752119 ,  0.50822216,\n",
              "          0.37201434,  1.3705543 , -0.3711198 , -0.4165108 , -0.26305467],\n",
              "        [ 0.23884906, -0.03626717, -0.22723351, -0.701096  ,  0.09541533,\n",
              "          0.46735018,  0.16881567, -0.6302382 , -0.7872555 , -0.5885209 ],\n",
              "        [-1.7140908 , -0.09324012, -0.45903906,  2.0335908 , -1.3737632 ,\n",
              "         -1.4320866 , -1.923938  , -0.30707467, -0.4788878 , -0.35067075],\n",
              "        [-0.15243462, -0.3256871 , -0.24532983, -0.48774332, -1.3589827 ,\n",
              "         -1.2193964 , -0.71482056, -0.79309505, -0.59778595, -0.06534604],\n",
              "        [ 1.1275216 , -0.700004  ,  0.25999236, -0.3768354 ,  0.1293119 ,\n",
              "         -0.50459987,  0.11905303,  0.09945291, -0.06869967, -0.38043857],\n",
              "        [ 0.16042376, -0.523529  , -0.7865739 ,  0.19493991, -0.0154256 ,\n",
              "         -0.7041816 , -0.35695004, -0.42821363,  0.16846243, -0.3799279 ],\n",
              "        [ 0.5234025 , -0.74956685, -1.017275  , -0.407233  ,  0.33393794,\n",
              "          0.10224739,  0.564317  , -0.21221307, -0.39186776, -0.47208306],\n",
              "        [-0.04228157, -0.13594313, -0.6216087 ,  0.6420686 ,  0.44033706,\n",
              "          0.4423768 ,  0.35550115, -0.24636513, -0.007582  , -0.8351869 ],\n",
              "        [-0.81300485, -0.6730787 , -0.56554073, -0.76269025, -0.8204525 ,\n",
              "         -0.943502  , -0.7677351 , -0.22020255, -0.7744871 , -0.63284385]],\n",
              "       dtype=float32),\n",
              " array([ 0.22455458, -0.4586185 , -0.3205773 , -1.9424714 ,  0.7075482 ,\n",
              "         0.80886376,  1.2682731 , -0.19052951, -0.7805341 , -0.80337745],\n",
              "       dtype=float32),\n",
              " array([[ 3.81739914e-01, -8.10738862e-01, -5.64724654e-02,\n",
              "          2.56849796e-01, -4.33642000e-01, -3.44971120e-02,\n",
              "         -3.65568370e-01,  1.73208937e-01,  5.50541401e-01,\n",
              "          8.00327584e-02],\n",
              "        [-9.86503139e-02,  2.74890959e-01,  4.46015984e-01,\n",
              "          1.97028488e-01, -5.53889871e-01, -1.07861850e-02,\n",
              "         -4.47919130e-01,  2.89471865e-01,  8.26938748e-02,\n",
              "         -7.04742968e-03],\n",
              "        [-2.27440819e-01,  3.21663767e-01, -6.04473233e-01,\n",
              "         -3.82374614e-01, -6.71235025e-01,  4.50959980e-01,\n",
              "         -3.95347923e-01, -2.30363570e-02, -2.89050251e-01,\n",
              "          3.53296012e-01],\n",
              "        [-9.03161883e-01, -3.57789606e-01,  6.21983840e-04,\n",
              "         -6.31646812e-01, -9.48097348e-01, -2.48187676e-01,\n",
              "         -1.12058282e-01, -7.31810570e-01, -2.04275846e-01,\n",
              "         -5.32316506e-01],\n",
              "        [ 3.88515741e-01, -1.58693194e-01, -3.30971986e-01,\n",
              "          5.32105923e-01, -3.29079419e-01, -8.60735834e-01,\n",
              "         -3.66837412e-01,  3.20382446e-01,  4.02084917e-01,\n",
              "          3.90560091e-01],\n",
              "        [ 3.44977796e-01, -2.22577974e-01, -7.58081496e-01,\n",
              "          3.66798401e-01, -6.16459362e-02, -1.20626301e-01,\n",
              "         -6.45093799e-01,  3.04350346e-01,  5.67260921e-01,\n",
              "          4.37363625e-01],\n",
              "        [ 2.54105151e-01,  9.93063509e-01, -2.69881189e-01,\n",
              "          9.64650214e-02, -1.19418144e-01, -6.89314783e-01,\n",
              "         -3.32892984e-01,  1.61172658e-01, -1.25123632e+00,\n",
              "          2.91993767e-01],\n",
              "        [-3.97449672e-01,  3.95019740e-01, -9.40516412e-01,\n",
              "         -4.11697365e-02, -6.29781336e-02, -8.83549601e-02,\n",
              "          3.00239176e-01, -3.84500951e-01, -6.75376952e-01,\n",
              "         -1.19694881e-01],\n",
              "        [-7.63520971e-02, -2.12023512e-01, -1.31247357e-01,\n",
              "          1.60960704e-01, -2.85413504e-01,  3.42044562e-01,\n",
              "          4.73823994e-01,  1.81145996e-01, -5.71720377e-02,\n",
              "          7.21585929e-01],\n",
              "        [ 2.31596053e-01,  2.78814256e-01, -6.22491658e-01,\n",
              "          2.63055831e-01, -1.55601695e-01, -5.44859543e-02,\n",
              "         -4.07348961e-01,  7.10538864e-01, -6.52338147e-01,\n",
              "         -2.99974680e-01]], dtype=float32),\n",
              " array([ 0.02953389, -0.01182926, -0.7280229 ,  0.00772304, -0.508388  ,\n",
              "        -0.01883435, -0.15832949, -0.05303315, -0.04476355, -0.00117804],\n",
              "       dtype=float32),\n",
              " array([[-0.23657198],\n",
              "        [-0.33192965],\n",
              "        [ 0.17659216],\n",
              "        [-0.18775001],\n",
              "        [ 0.18507734],\n",
              "        [ 0.12886435],\n",
              "        [-0.0852352 ],\n",
              "        [-0.11739352],\n",
              "        [-0.29962116],\n",
              "        [-0.20579973]], dtype=float32),\n",
              " array([0.18499137], dtype=float32)]"
            ]
          },
          "metadata": {},
          "execution_count": 93
        }
      ]
    },
    {
      "cell_type": "code",
      "source": [
        "## Saving h5 file\n",
        "classifier.save('model.h5')"
      ],
      "metadata": {
        "id": "BeuVZSjFzgOM"
      },
      "execution_count": 94,
      "outputs": []
    },
    {
      "cell_type": "code",
      "source": [
        "##laoding h5 file\n",
        "from tensorflow import keras\n",
        "classifier1=keras.models.load_model('model.h5')"
      ],
      "metadata": {
        "id": "XLvI2mjnzgRa",
        "colab": {
          "base_uri": "https://localhost:8080/"
        },
        "outputId": "b2e314d6-e47d-459b-a6da-3aec68e9e693"
      },
      "execution_count": 95,
      "outputs": [
        {
          "output_type": "stream",
          "name": "stderr",
          "text": [
            "WARNING:tensorflow:Error in loading the saved optimizer state. As a result, your model is starting with a freshly initialized optimizer.\n"
          ]
        }
      ]
    },
    {
      "cell_type": "code",
      "source": [
        "classifier1.predict(X_test)"
      ],
      "metadata": {
        "colab": {
          "base_uri": "https://localhost:8080/"
        },
        "id": "-1CgQsXmzgUe",
        "outputId": "bfb1f758-e365-443c-dfe6-12d55122eef4"
      },
      "execution_count": 96,
      "outputs": [
        {
          "output_type": "stream",
          "name": "stdout",
          "text": [
            "63/63 [==============================] - 0s 2ms/step\n"
          ]
        },
        {
          "output_type": "execute_result",
          "data": {
            "text/plain": [
              "array([[0.45733526],\n",
              "       [0.3336346 ],\n",
              "       [0.3235581 ],\n",
              "       ...,\n",
              "       [0.4132478 ],\n",
              "       [0.37738255],\n",
              "       [0.38061464]], dtype=float32)"
            ]
          },
          "metadata": {},
          "execution_count": 96
        }
      ]
    },
    {
      "cell_type": "code",
      "source": [
        "df.head()"
      ],
      "metadata": {
        "colab": {
          "base_uri": "https://localhost:8080/",
          "height": 206
        },
        "id": "G-14VI3pzgXb",
        "outputId": "8197b4dc-23ef-4c8c-b17b-af88f1f4ffba"
      },
      "execution_count": 97,
      "outputs": [
        {
          "output_type": "execute_result",
          "data": {
            "text/plain": [
              "   RowNumber  CustomerId   Surname  CreditScore Geography  Gender  Age  \\\n",
              "0          1    15634602  Hargrave          619    France  Female   42   \n",
              "1          2    15647311      Hill          608     Spain  Female   41   \n",
              "2          3    15619304      Onio          502    France  Female   42   \n",
              "3          4    15701354      Boni          699    France  Female   39   \n",
              "4          5    15737888  Mitchell          850     Spain  Female   43   \n",
              "\n",
              "   Tenure    Balance  NumOfProducts  HasCrCard  IsActiveMember  \\\n",
              "0       2       0.00              1          1               1   \n",
              "1       1   83807.86              1          0               1   \n",
              "2       8  159660.80              3          1               0   \n",
              "3       1       0.00              2          0               0   \n",
              "4       2  125510.82              1          1               1   \n",
              "\n",
              "   EstimatedSalary  Exited  \n",
              "0        101348.88       1  \n",
              "1        112542.58       0  \n",
              "2        113931.57       1  \n",
              "3         93826.63       0  \n",
              "4         79084.10       0  "
            ],
            "text/html": [
              "\n",
              "  <div id=\"df-1e64e290-5854-4e61-8b90-18324ed88396\">\n",
              "    <div class=\"colab-df-container\">\n",
              "      <div>\n",
              "<style scoped>\n",
              "    .dataframe tbody tr th:only-of-type {\n",
              "        vertical-align: middle;\n",
              "    }\n",
              "\n",
              "    .dataframe tbody tr th {\n",
              "        vertical-align: top;\n",
              "    }\n",
              "\n",
              "    .dataframe thead th {\n",
              "        text-align: right;\n",
              "    }\n",
              "</style>\n",
              "<table border=\"1\" class=\"dataframe\">\n",
              "  <thead>\n",
              "    <tr style=\"text-align: right;\">\n",
              "      <th></th>\n",
              "      <th>RowNumber</th>\n",
              "      <th>CustomerId</th>\n",
              "      <th>Surname</th>\n",
              "      <th>CreditScore</th>\n",
              "      <th>Geography</th>\n",
              "      <th>Gender</th>\n",
              "      <th>Age</th>\n",
              "      <th>Tenure</th>\n",
              "      <th>Balance</th>\n",
              "      <th>NumOfProducts</th>\n",
              "      <th>HasCrCard</th>\n",
              "      <th>IsActiveMember</th>\n",
              "      <th>EstimatedSalary</th>\n",
              "      <th>Exited</th>\n",
              "    </tr>\n",
              "  </thead>\n",
              "  <tbody>\n",
              "    <tr>\n",
              "      <th>0</th>\n",
              "      <td>1</td>\n",
              "      <td>15634602</td>\n",
              "      <td>Hargrave</td>\n",
              "      <td>619</td>\n",
              "      <td>France</td>\n",
              "      <td>Female</td>\n",
              "      <td>42</td>\n",
              "      <td>2</td>\n",
              "      <td>0.00</td>\n",
              "      <td>1</td>\n",
              "      <td>1</td>\n",
              "      <td>1</td>\n",
              "      <td>101348.88</td>\n",
              "      <td>1</td>\n",
              "    </tr>\n",
              "    <tr>\n",
              "      <th>1</th>\n",
              "      <td>2</td>\n",
              "      <td>15647311</td>\n",
              "      <td>Hill</td>\n",
              "      <td>608</td>\n",
              "      <td>Spain</td>\n",
              "      <td>Female</td>\n",
              "      <td>41</td>\n",
              "      <td>1</td>\n",
              "      <td>83807.86</td>\n",
              "      <td>1</td>\n",
              "      <td>0</td>\n",
              "      <td>1</td>\n",
              "      <td>112542.58</td>\n",
              "      <td>0</td>\n",
              "    </tr>\n",
              "    <tr>\n",
              "      <th>2</th>\n",
              "      <td>3</td>\n",
              "      <td>15619304</td>\n",
              "      <td>Onio</td>\n",
              "      <td>502</td>\n",
              "      <td>France</td>\n",
              "      <td>Female</td>\n",
              "      <td>42</td>\n",
              "      <td>8</td>\n",
              "      <td>159660.80</td>\n",
              "      <td>3</td>\n",
              "      <td>1</td>\n",
              "      <td>0</td>\n",
              "      <td>113931.57</td>\n",
              "      <td>1</td>\n",
              "    </tr>\n",
              "    <tr>\n",
              "      <th>3</th>\n",
              "      <td>4</td>\n",
              "      <td>15701354</td>\n",
              "      <td>Boni</td>\n",
              "      <td>699</td>\n",
              "      <td>France</td>\n",
              "      <td>Female</td>\n",
              "      <td>39</td>\n",
              "      <td>1</td>\n",
              "      <td>0.00</td>\n",
              "      <td>2</td>\n",
              "      <td>0</td>\n",
              "      <td>0</td>\n",
              "      <td>93826.63</td>\n",
              "      <td>0</td>\n",
              "    </tr>\n",
              "    <tr>\n",
              "      <th>4</th>\n",
              "      <td>5</td>\n",
              "      <td>15737888</td>\n",
              "      <td>Mitchell</td>\n",
              "      <td>850</td>\n",
              "      <td>Spain</td>\n",
              "      <td>Female</td>\n",
              "      <td>43</td>\n",
              "      <td>2</td>\n",
              "      <td>125510.82</td>\n",
              "      <td>1</td>\n",
              "      <td>1</td>\n",
              "      <td>1</td>\n",
              "      <td>79084.10</td>\n",
              "      <td>0</td>\n",
              "    </tr>\n",
              "  </tbody>\n",
              "</table>\n",
              "</div>\n",
              "      <button class=\"colab-df-convert\" onclick=\"convertToInteractive('df-1e64e290-5854-4e61-8b90-18324ed88396')\"\n",
              "              title=\"Convert this dataframe to an interactive table.\"\n",
              "              style=\"display:none;\">\n",
              "        \n",
              "  <svg xmlns=\"http://www.w3.org/2000/svg\" height=\"24px\"viewBox=\"0 0 24 24\"\n",
              "       width=\"24px\">\n",
              "    <path d=\"M0 0h24v24H0V0z\" fill=\"none\"/>\n",
              "    <path d=\"M18.56 5.44l.94 2.06.94-2.06 2.06-.94-2.06-.94-.94-2.06-.94 2.06-2.06.94zm-11 1L8.5 8.5l.94-2.06 2.06-.94-2.06-.94L8.5 2.5l-.94 2.06-2.06.94zm10 10l.94 2.06.94-2.06 2.06-.94-2.06-.94-.94-2.06-.94 2.06-2.06.94z\"/><path d=\"M17.41 7.96l-1.37-1.37c-.4-.4-.92-.59-1.43-.59-.52 0-1.04.2-1.43.59L10.3 9.45l-7.72 7.72c-.78.78-.78 2.05 0 2.83L4 21.41c.39.39.9.59 1.41.59.51 0 1.02-.2 1.41-.59l7.78-7.78 2.81-2.81c.8-.78.8-2.07 0-2.86zM5.41 20L4 18.59l7.72-7.72 1.47 1.35L5.41 20z\"/>\n",
              "  </svg>\n",
              "      </button>\n",
              "      \n",
              "  <style>\n",
              "    .colab-df-container {\n",
              "      display:flex;\n",
              "      flex-wrap:wrap;\n",
              "      gap: 12px;\n",
              "    }\n",
              "\n",
              "    .colab-df-convert {\n",
              "      background-color: #E8F0FE;\n",
              "      border: none;\n",
              "      border-radius: 50%;\n",
              "      cursor: pointer;\n",
              "      display: none;\n",
              "      fill: #1967D2;\n",
              "      height: 32px;\n",
              "      padding: 0 0 0 0;\n",
              "      width: 32px;\n",
              "    }\n",
              "\n",
              "    .colab-df-convert:hover {\n",
              "      background-color: #E2EBFA;\n",
              "      box-shadow: 0px 1px 2px rgba(60, 64, 67, 0.3), 0px 1px 3px 1px rgba(60, 64, 67, 0.15);\n",
              "      fill: #174EA6;\n",
              "    }\n",
              "\n",
              "    [theme=dark] .colab-df-convert {\n",
              "      background-color: #3B4455;\n",
              "      fill: #D2E3FC;\n",
              "    }\n",
              "\n",
              "    [theme=dark] .colab-df-convert:hover {\n",
              "      background-color: #434B5C;\n",
              "      box-shadow: 0px 1px 3px 1px rgba(0, 0, 0, 0.15);\n",
              "      filter: drop-shadow(0px 1px 2px rgba(0, 0, 0, 0.3));\n",
              "      fill: #FFFFFF;\n",
              "    }\n",
              "  </style>\n",
              "\n",
              "      <script>\n",
              "        const buttonEl =\n",
              "          document.querySelector('#df-1e64e290-5854-4e61-8b90-18324ed88396 button.colab-df-convert');\n",
              "        buttonEl.style.display =\n",
              "          google.colab.kernel.accessAllowed ? 'block' : 'none';\n",
              "\n",
              "        async function convertToInteractive(key) {\n",
              "          const element = document.querySelector('#df-1e64e290-5854-4e61-8b90-18324ed88396');\n",
              "          const dataTable =\n",
              "            await google.colab.kernel.invokeFunction('convertToInteractive',\n",
              "                                                     [key], {});\n",
              "          if (!dataTable) return;\n",
              "\n",
              "          const docLinkHtml = 'Like what you see? Visit the ' +\n",
              "            '<a target=\"_blank\" href=https://colab.research.google.com/notebooks/data_table.ipynb>data table notebook</a>'\n",
              "            + ' to learn more about interactive tables.';\n",
              "          element.innerHTML = '';\n",
              "          dataTable['output_type'] = 'display_data';\n",
              "          await google.colab.output.renderOutput(dataTable, element);\n",
              "          const docLink = document.createElement('div');\n",
              "          docLink.innerHTML = docLinkHtml;\n",
              "          element.appendChild(docLink);\n",
              "        }\n",
              "      </script>\n",
              "    </div>\n",
              "  </div>\n",
              "  "
            ]
          },
          "metadata": {},
          "execution_count": 97
        }
      ]
    },
    {
      "cell_type": "code",
      "source": [
        "## Regression\n",
        "## Divide the dataset into independent and dependent features\n",
        "\n",
        "X1=df[['CreditScore', 'Geography',\n",
        "       'Gender', 'Age', 'Tenure', 'Balance', 'NumOfProducts', 'HasCrCard',\n",
        "       'IsActiveMember','Exited']]\n",
        "y1=df.iloc[:,12]"
      ],
      "metadata": {
        "id": "qYgD6voPzgab"
      },
      "execution_count": 101,
      "outputs": []
    },
    {
      "cell_type": "code",
      "source": [
        "## Ferature Engineering \n",
        "geography=pd.get_dummies(X1['Geography'],drop_first=True)\n",
        "gender=pd.get_dummies(X1['Gender'],drop_first=True)\n",
        "## concatenate these variables with dataframe\n",
        "X1=X1.drop(['Geography','Gender'],axis=1)\n",
        "X1=pd.concat([X1,geography,gender],axis=1) \n",
        "#Splitting the dataset into Training set and Test Set\n",
        "from sklearn.model_selection import train_test_split\n",
        "\n",
        "X1_train,X1_test,y1_train,y1_test=train_test_split(X1,y1,test_size=0.2,random_state=0)\n",
        "\n",
        "#feature Scaling\n",
        "\n",
        "from sklearn.preprocessing import StandardScaler\n",
        "sc =StandardScaler()\n",
        "X1_train=sc.fit_transform(X_train)\n",
        "X1_test=sc.transform(X_test)\n",
        "\n",
        "### Lets initialize the ANN\n",
        "regressor=Sequential()\n",
        "## Adding the input Layer and first hidden layer\n",
        "regressor.add(Dense(10,input_shape=(11,),activation='relu'))\n",
        "\n",
        "\n",
        "# adding the first hidden layer\n",
        "regressor.add(Dense(units=10,activation='relu'))\n",
        "regressor.add(Dropout(0.2))\n",
        "\n",
        "##adding the second hidden layer\n",
        "regressor.add(Dense(units=10,activation='relu'))\n",
        "regressor.add(Dropout(0.3))\n",
        "\n",
        "##  Adding the output layer\n",
        "regressor.add(Dense(1))\n"
      ],
      "metadata": {
        "id": "tIWGh3Mkzgct"
      },
      "execution_count": 102,
      "outputs": []
    },
    {
      "cell_type": "code",
      "source": [
        "regressor.summary()"
      ],
      "metadata": {
        "colab": {
          "base_uri": "https://localhost:8080/"
        },
        "id": "r0OBRp5bzggK",
        "outputId": "6cd77bf0-024d-47bb-e14a-408da6961a49"
      },
      "execution_count": 103,
      "outputs": [
        {
          "output_type": "stream",
          "name": "stdout",
          "text": [
            "Model: \"sequential_6\"\n",
            "_________________________________________________________________\n",
            " Layer (type)                Output Shape              Param #   \n",
            "=================================================================\n",
            " dense_16 (Dense)            (None, 10)                120       \n",
            "                                                                 \n",
            " dense_17 (Dense)            (None, 10)                110       \n",
            "                                                                 \n",
            " dropout_2 (Dropout)         (None, 10)                0         \n",
            "                                                                 \n",
            " dense_18 (Dense)            (None, 10)                110       \n",
            "                                                                 \n",
            " dropout_3 (Dropout)         (None, 10)                0         \n",
            "                                                                 \n",
            " dense_19 (Dense)            (None, 1)                 11        \n",
            "                                                                 \n",
            "=================================================================\n",
            "Total params: 351\n",
            "Trainable params: 351\n",
            "Non-trainable params: 0\n",
            "_________________________________________________________________\n"
          ]
        }
      ]
    },
    {
      "cell_type": "code",
      "source": [
        "mse=tf.keras.losses.MeanSquaredError(\n",
        "    name='mean_squared_error'\n",
        ")\n",
        "metrics=tf.keras.metrics.MeanSquaredError(\n",
        "    name='mean_squared_error', dtype=None\n",
        ")"
      ],
      "metadata": {
        "id": "QcMc_XNxzgj9"
      },
      "execution_count": 104,
      "outputs": []
    },
    {
      "cell_type": "code",
      "source": [
        "regressor.compile(optimizer=opt,loss=mse,metrics=['mae'])\n",
        "\n",
        "## Early Stopping\n",
        "import tensorflow as tf\n",
        "early_stopping=tf.keras.callbacks.EarlyStopping(\n",
        "    monitor=\"mae\",\n",
        "    patience=15\n",
        "   \n",
        ")"
      ],
      "metadata": {
        "id": "Jgmjp7PE1qkI"
      },
      "execution_count": 105,
      "outputs": []
    },
    {
      "cell_type": "code",
      "source": [
        "model_history1=regressor.fit(X1_train,y1_train,validation_data=(X1_test,y1_test),batch_size=10,epochs=100,callbacks=early_stopping)"
      ],
      "metadata": {
        "colab": {
          "base_uri": "https://localhost:8080/"
        },
        "id": "kWo_DBe61qr-",
        "outputId": "6f6b4f4f-ec4f-45f3-e1e4-9225a7bb1977"
      },
      "execution_count": 106,
      "outputs": [
        {
          "output_type": "stream",
          "name": "stdout",
          "text": [
            "Epoch 1/100\n",
            "800/800 [==============================] - 3s 3ms/step - loss: 3472937984.0000 - mae: 40503.4102 - val_loss: 231682704.0000 - val_mae: 13593.6748\n",
            "Epoch 2/100\n",
            "800/800 [==============================] - 2s 3ms/step - loss: 1163105536.0000 - mae: 24914.3828 - val_loss: 211447712.0000 - val_mae: 13325.9248\n",
            "Epoch 3/100\n",
            "800/800 [==============================] - 2s 3ms/step - loss: 1150468992.0000 - mae: 24672.0293 - val_loss: 116613784.0000 - val_mae: 9759.7881\n",
            "Epoch 4/100\n",
            "800/800 [==============================] - 2s 3ms/step - loss: 1123281280.0000 - mae: 24334.6172 - val_loss: 111698912.0000 - val_mae: 9444.1484\n",
            "Epoch 5/100\n",
            "800/800 [==============================] - 2s 3ms/step - loss: 1086020608.0000 - mae: 23708.7852 - val_loss: 205291152.0000 - val_mae: 12892.8770\n",
            "Epoch 6/100\n",
            "800/800 [==============================] - 2s 3ms/step - loss: 1094113664.0000 - mae: 23921.0430 - val_loss: 105106400.0000 - val_mae: 8784.6143\n",
            "Epoch 7/100\n",
            "800/800 [==============================] - 2s 3ms/step - loss: 1090081152.0000 - mae: 23593.3066 - val_loss: 198237376.0000 - val_mae: 12403.0527\n",
            "Epoch 8/100\n",
            "800/800 [==============================] - 2s 3ms/step - loss: 1095530880.0000 - mae: 23699.6758 - val_loss: 109317992.0000 - val_mae: 9091.6963\n",
            "Epoch 9/100\n",
            "800/800 [==============================] - 2s 3ms/step - loss: 1111158400.0000 - mae: 23773.8809 - val_loss: 62220144.0000 - val_mae: 6904.3159\n",
            "Epoch 10/100\n",
            "800/800 [==============================] - 2s 3ms/step - loss: 1104569728.0000 - mae: 23694.0586 - val_loss: 123790256.0000 - val_mae: 9982.2207\n",
            "Epoch 11/100\n",
            "800/800 [==============================] - 2s 3ms/step - loss: 1088570880.0000 - mae: 23643.5664 - val_loss: 104904968.0000 - val_mae: 9035.2207\n",
            "Epoch 12/100\n",
            "800/800 [==============================] - 2s 3ms/step - loss: 1068739584.0000 - mae: 23308.3398 - val_loss: 75307784.0000 - val_mae: 7624.8145\n",
            "Epoch 13/100\n",
            "800/800 [==============================] - 2s 3ms/step - loss: 1143307904.0000 - mae: 23959.0078 - val_loss: 93001728.0000 - val_mae: 8238.1758\n",
            "Epoch 14/100\n",
            "800/800 [==============================] - 2s 3ms/step - loss: 1084412800.0000 - mae: 23506.1035 - val_loss: 111653448.0000 - val_mae: 8866.3389\n",
            "Epoch 15/100\n",
            "800/800 [==============================] - 2s 3ms/step - loss: 1107878272.0000 - mae: 23600.6016 - val_loss: 84354416.0000 - val_mae: 7805.2520\n",
            "Epoch 16/100\n",
            "800/800 [==============================] - 2s 3ms/step - loss: 1127020928.0000 - mae: 23763.3867 - val_loss: 60017504.0000 - val_mae: 6439.3936\n",
            "Epoch 17/100\n",
            "800/800 [==============================] - 2s 3ms/step - loss: 1070064320.0000 - mae: 23247.7812 - val_loss: 89575464.0000 - val_mae: 8125.0615\n",
            "Epoch 18/100\n",
            "800/800 [==============================] - 2s 3ms/step - loss: 1112090368.0000 - mae: 23558.5293 - val_loss: 268860704.0000 - val_mae: 14017.6572\n",
            "Epoch 19/100\n",
            "800/800 [==============================] - 2s 3ms/step - loss: 1098347520.0000 - mae: 23470.8906 - val_loss: 102289704.0000 - val_mae: 8805.7627\n",
            "Epoch 20/100\n",
            "800/800 [==============================] - 2s 3ms/step - loss: 1097141120.0000 - mae: 23501.1777 - val_loss: 154414992.0000 - val_mae: 10796.9121\n",
            "Epoch 21/100\n",
            "800/800 [==============================] - 2s 3ms/step - loss: 1110983680.0000 - mae: 23558.1582 - val_loss: 168103888.0000 - val_mae: 11346.8984\n",
            "Epoch 22/100\n",
            "800/800 [==============================] - 2s 3ms/step - loss: 1076664832.0000 - mae: 23106.2852 - val_loss: 138258208.0000 - val_mae: 10216.2422\n",
            "Epoch 23/100\n",
            "800/800 [==============================] - 2s 3ms/step - loss: 1088291456.0000 - mae: 23323.8340 - val_loss: 199226288.0000 - val_mae: 12079.6514\n",
            "Epoch 24/100\n",
            "800/800 [==============================] - 3s 4ms/step - loss: 1062908608.0000 - mae: 23221.6289 - val_loss: 91774952.0000 - val_mae: 8107.0708\n",
            "Epoch 25/100\n",
            "800/800 [==============================] - 2s 3ms/step - loss: 1054462400.0000 - mae: 23091.3359 - val_loss: 33420444.0000 - val_mae: 4983.8623\n",
            "Epoch 26/100\n",
            "800/800 [==============================] - 2s 3ms/step - loss: 1098017536.0000 - mae: 23430.4902 - val_loss: 81391808.0000 - val_mae: 7845.8623\n",
            "Epoch 27/100\n",
            "800/800 [==============================] - 2s 3ms/step - loss: 1106337664.0000 - mae: 23547.9180 - val_loss: 112006968.0000 - val_mae: 9108.2168\n",
            "Epoch 28/100\n",
            "800/800 [==============================] - 2s 3ms/step - loss: 1091331968.0000 - mae: 23102.7676 - val_loss: 11158292.0000 - val_mae: 2974.2458\n",
            "Epoch 29/100\n",
            "800/800 [==============================] - 2s 3ms/step - loss: 1082817664.0000 - mae: 23394.5117 - val_loss: 81761056.0000 - val_mae: 7627.2832\n",
            "Epoch 30/100\n",
            "800/800 [==============================] - 2s 3ms/step - loss: 1110227968.0000 - mae: 23242.6719 - val_loss: 51056936.0000 - val_mae: 6225.9575\n",
            "Epoch 31/100\n",
            "800/800 [==============================] - 2s 3ms/step - loss: 1073334016.0000 - mae: 23231.1816 - val_loss: 57157224.0000 - val_mae: 6548.4951\n",
            "Epoch 32/100\n",
            "800/800 [==============================] - 2s 3ms/step - loss: 1092927616.0000 - mae: 23313.2129 - val_loss: 114367432.0000 - val_mae: 9005.3115\n",
            "Epoch 33/100\n",
            "800/800 [==============================] - 2s 3ms/step - loss: 1125258496.0000 - mae: 23690.5215 - val_loss: 213581648.0000 - val_mae: 12388.9873\n",
            "Epoch 34/100\n",
            "800/800 [==============================] - 2s 3ms/step - loss: 1093183744.0000 - mae: 23260.4629 - val_loss: 70354448.0000 - val_mae: 7126.2769\n",
            "Epoch 35/100\n",
            "800/800 [==============================] - 2s 3ms/step - loss: 1037226048.0000 - mae: 22812.5449 - val_loss: 79661368.0000 - val_mae: 7332.0005\n",
            "Epoch 36/100\n",
            "800/800 [==============================] - 2s 3ms/step - loss: 1086522240.0000 - mae: 23268.8496 - val_loss: 93935704.0000 - val_mae: 8262.3164\n",
            "Epoch 37/100\n",
            "800/800 [==============================] - 2s 3ms/step - loss: 1084288512.0000 - mae: 23251.2695 - val_loss: 25828552.0000 - val_mae: 4710.2163\n",
            "Epoch 38/100\n",
            "800/800 [==============================] - 2s 3ms/step - loss: 1086414720.0000 - mae: 23263.9180 - val_loss: 63468380.0000 - val_mae: 6801.1313\n",
            "Epoch 39/100\n",
            "800/800 [==============================] - 3s 3ms/step - loss: 1074235904.0000 - mae: 23218.3105 - val_loss: 94841536.0000 - val_mae: 8383.9639\n",
            "Epoch 40/100\n",
            "800/800 [==============================] - 2s 3ms/step - loss: 1082160896.0000 - mae: 23090.3672 - val_loss: 62319812.0000 - val_mae: 6823.7705\n",
            "Epoch 41/100\n",
            "800/800 [==============================] - 2s 3ms/step - loss: 1105168512.0000 - mae: 23512.5762 - val_loss: 111336976.0000 - val_mae: 9222.3486\n",
            "Epoch 42/100\n",
            "800/800 [==============================] - 2s 3ms/step - loss: 1087932544.0000 - mae: 23329.9766 - val_loss: 141901168.0000 - val_mae: 10448.2637\n",
            "Epoch 43/100\n",
            "800/800 [==============================] - 2s 3ms/step - loss: 1114019968.0000 - mae: 23564.1387 - val_loss: 44536228.0000 - val_mae: 5928.3696\n",
            "Epoch 44/100\n",
            "800/800 [==============================] - 2s 3ms/step - loss: 1123574656.0000 - mae: 23621.6895 - val_loss: 108207936.0000 - val_mae: 8870.6836\n",
            "Epoch 45/100\n",
            "800/800 [==============================] - 2s 3ms/step - loss: 1072517888.0000 - mae: 23098.1719 - val_loss: 61421372.0000 - val_mae: 6814.2617\n",
            "Epoch 46/100\n",
            "800/800 [==============================] - 2s 3ms/step - loss: 1131583104.0000 - mae: 23694.0918 - val_loss: 165454944.0000 - val_mae: 10845.8828\n",
            "Epoch 47/100\n",
            "800/800 [==============================] - 2s 3ms/step - loss: 1091956736.0000 - mae: 23395.3730 - val_loss: 104538424.0000 - val_mae: 8798.7344\n",
            "Epoch 48/100\n",
            "800/800 [==============================] - 2s 3ms/step - loss: 1096322816.0000 - mae: 23479.3887 - val_loss: 79362000.0000 - val_mae: 7558.5454\n",
            "Epoch 49/100\n",
            "800/800 [==============================] - 2s 3ms/step - loss: 1041812160.0000 - mae: 22821.3848 - val_loss: 88949288.0000 - val_mae: 8107.8550\n",
            "Epoch 50/100\n",
            "800/800 [==============================] - 2s 3ms/step - loss: 1120706048.0000 - mae: 23491.3125 - val_loss: 16242339.0000 - val_mae: 3458.6877\n"
          ]
        }
      ]
    },
    {
      "cell_type": "code",
      "source": [
        "y_pred=regressor.predict(X_test)"
      ],
      "metadata": {
        "colab": {
          "base_uri": "https://localhost:8080/"
        },
        "id": "xP8eKko519Ko",
        "outputId": "c2a04674-bb75-40d5-ccfe-a37cee683404"
      },
      "execution_count": 107,
      "outputs": [
        {
          "output_type": "stream",
          "name": "stdout",
          "text": [
            "63/63 [==============================] - 0s 1ms/step\n"
          ]
        }
      ]
    },
    {
      "cell_type": "code",
      "source": [
        "from sklearn.metrics import r2_score\n",
        "\n",
        "print(r2_score(y_test,y_pred))"
      ],
      "metadata": {
        "colab": {
          "base_uri": "https://localhost:8080/"
        },
        "id": "vBNovWDL2Q8g",
        "outputId": "c55e44e9-8d9d-48f5-f218-32e3fa621324"
      },
      "execution_count": 108,
      "outputs": [
        {
          "output_type": "stream",
          "name": "stdout",
          "text": [
            "-77155794138.05208\n"
          ]
        }
      ]
    }
  ]
}