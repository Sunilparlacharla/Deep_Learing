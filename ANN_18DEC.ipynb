{
  "nbformat": 4,
  "nbformat_minor": 0,
  "metadata": {
    "colab": {
      "provenance": [],
      "authorship_tag": "ABX9TyOoqrgIkBCOItqYUCf/4UB2",
      "include_colab_link": true
    },
    "kernelspec": {
      "name": "python3",
      "display_name": "Python 3"
    },
    "language_info": {
      "name": "python"
    },
    "accelerator": "GPU",
    "gpuClass": "standard"
  },
  "cells": [
    {
      "cell_type": "markdown",
      "metadata": {
        "id": "view-in-github",
        "colab_type": "text"
      },
      "source": [
        "<a href=\"https://colab.research.google.com/github/Sunilparlacharla/Deep_Learing/blob/main/ANN_18DEC.ipynb\" target=\"_parent\"><img src=\"https://colab.research.google.com/assets/colab-badge.svg\" alt=\"Open In Colab\"/></a>"
      ]
    },
    {
      "cell_type": "code",
      "source": [
        "import tensorflow as tf\n",
        "import matplotlib.pyplot as plt\n",
        "import numpy as np\n",
        "from sklearn.model_selection import train_test_split\n",
        "from tensorflow import keras\n",
        "from tensorflow.keras import layers\n",
        "import pandas as pd"
      ],
      "metadata": {
        "id": "ualLmJoGdCl1"
      },
      "execution_count": null,
      "outputs": []
    },
    {
      "cell_type": "code",
      "source": [
        "tf.__version__"
      ],
      "metadata": {
        "colab": {
          "base_uri": "https://localhost:8080/",
          "height": 36
        },
        "id": "KMr6N1okeJtG",
        "outputId": "7613093f-441c-4e91-b8e5-c18254c9ddb6"
      },
      "execution_count": null,
      "outputs": [
        {
          "output_type": "execute_result",
          "data": {
            "text/plain": [
              "'2.9.2'"
            ],
            "application/vnd.google.colaboratory.intrinsic+json": {
              "type": "string"
            }
          },
          "metadata": {},
          "execution_count": 2
        }
      ]
    },
    {
      "cell_type": "code",
      "source": [
        "df=pd.read_csv(\"Churn_Modelling.csv\")\n",
        "df.head()"
      ],
      "metadata": {
        "colab": {
          "base_uri": "https://localhost:8080/",
          "height": 206
        },
        "id": "M2Zk0Q2LeJwH",
        "outputId": "ceb225c9-b113-4875-9913-308c6fd66877"
      },
      "execution_count": null,
      "outputs": [
        {
          "output_type": "execute_result",
          "data": {
            "text/plain": [
              "   RowNumber  CustomerId   Surname  CreditScore Geography  Gender  Age  \\\n",
              "0          1    15634602  Hargrave          619    France  Female   42   \n",
              "1          2    15647311      Hill          608     Spain  Female   41   \n",
              "2          3    15619304      Onio          502    France  Female   42   \n",
              "3          4    15701354      Boni          699    France  Female   39   \n",
              "4          5    15737888  Mitchell          850     Spain  Female   43   \n",
              "\n",
              "   Tenure    Balance  NumOfProducts  HasCrCard  IsActiveMember  \\\n",
              "0       2       0.00              1          1               1   \n",
              "1       1   83807.86              1          0               1   \n",
              "2       8  159660.80              3          1               0   \n",
              "3       1       0.00              2          0               0   \n",
              "4       2  125510.82              1          1               1   \n",
              "\n",
              "   EstimatedSalary  Exited  \n",
              "0        101348.88       1  \n",
              "1        112542.58       0  \n",
              "2        113931.57       1  \n",
              "3         93826.63       0  \n",
              "4         79084.10       0  "
            ],
            "text/html": [
              "\n",
              "  <div id=\"df-6e621f9a-c364-43c1-a3d6-f2a9b1ea3cff\">\n",
              "    <div class=\"colab-df-container\">\n",
              "      <div>\n",
              "<style scoped>\n",
              "    .dataframe tbody tr th:only-of-type {\n",
              "        vertical-align: middle;\n",
              "    }\n",
              "\n",
              "    .dataframe tbody tr th {\n",
              "        vertical-align: top;\n",
              "    }\n",
              "\n",
              "    .dataframe thead th {\n",
              "        text-align: right;\n",
              "    }\n",
              "</style>\n",
              "<table border=\"1\" class=\"dataframe\">\n",
              "  <thead>\n",
              "    <tr style=\"text-align: right;\">\n",
              "      <th></th>\n",
              "      <th>RowNumber</th>\n",
              "      <th>CustomerId</th>\n",
              "      <th>Surname</th>\n",
              "      <th>CreditScore</th>\n",
              "      <th>Geography</th>\n",
              "      <th>Gender</th>\n",
              "      <th>Age</th>\n",
              "      <th>Tenure</th>\n",
              "      <th>Balance</th>\n",
              "      <th>NumOfProducts</th>\n",
              "      <th>HasCrCard</th>\n",
              "      <th>IsActiveMember</th>\n",
              "      <th>EstimatedSalary</th>\n",
              "      <th>Exited</th>\n",
              "    </tr>\n",
              "  </thead>\n",
              "  <tbody>\n",
              "    <tr>\n",
              "      <th>0</th>\n",
              "      <td>1</td>\n",
              "      <td>15634602</td>\n",
              "      <td>Hargrave</td>\n",
              "      <td>619</td>\n",
              "      <td>France</td>\n",
              "      <td>Female</td>\n",
              "      <td>42</td>\n",
              "      <td>2</td>\n",
              "      <td>0.00</td>\n",
              "      <td>1</td>\n",
              "      <td>1</td>\n",
              "      <td>1</td>\n",
              "      <td>101348.88</td>\n",
              "      <td>1</td>\n",
              "    </tr>\n",
              "    <tr>\n",
              "      <th>1</th>\n",
              "      <td>2</td>\n",
              "      <td>15647311</td>\n",
              "      <td>Hill</td>\n",
              "      <td>608</td>\n",
              "      <td>Spain</td>\n",
              "      <td>Female</td>\n",
              "      <td>41</td>\n",
              "      <td>1</td>\n",
              "      <td>83807.86</td>\n",
              "      <td>1</td>\n",
              "      <td>0</td>\n",
              "      <td>1</td>\n",
              "      <td>112542.58</td>\n",
              "      <td>0</td>\n",
              "    </tr>\n",
              "    <tr>\n",
              "      <th>2</th>\n",
              "      <td>3</td>\n",
              "      <td>15619304</td>\n",
              "      <td>Onio</td>\n",
              "      <td>502</td>\n",
              "      <td>France</td>\n",
              "      <td>Female</td>\n",
              "      <td>42</td>\n",
              "      <td>8</td>\n",
              "      <td>159660.80</td>\n",
              "      <td>3</td>\n",
              "      <td>1</td>\n",
              "      <td>0</td>\n",
              "      <td>113931.57</td>\n",
              "      <td>1</td>\n",
              "    </tr>\n",
              "    <tr>\n",
              "      <th>3</th>\n",
              "      <td>4</td>\n",
              "      <td>15701354</td>\n",
              "      <td>Boni</td>\n",
              "      <td>699</td>\n",
              "      <td>France</td>\n",
              "      <td>Female</td>\n",
              "      <td>39</td>\n",
              "      <td>1</td>\n",
              "      <td>0.00</td>\n",
              "      <td>2</td>\n",
              "      <td>0</td>\n",
              "      <td>0</td>\n",
              "      <td>93826.63</td>\n",
              "      <td>0</td>\n",
              "    </tr>\n",
              "    <tr>\n",
              "      <th>4</th>\n",
              "      <td>5</td>\n",
              "      <td>15737888</td>\n",
              "      <td>Mitchell</td>\n",
              "      <td>850</td>\n",
              "      <td>Spain</td>\n",
              "      <td>Female</td>\n",
              "      <td>43</td>\n",
              "      <td>2</td>\n",
              "      <td>125510.82</td>\n",
              "      <td>1</td>\n",
              "      <td>1</td>\n",
              "      <td>1</td>\n",
              "      <td>79084.10</td>\n",
              "      <td>0</td>\n",
              "    </tr>\n",
              "  </tbody>\n",
              "</table>\n",
              "</div>\n",
              "      <button class=\"colab-df-convert\" onclick=\"convertToInteractive('df-6e621f9a-c364-43c1-a3d6-f2a9b1ea3cff')\"\n",
              "              title=\"Convert this dataframe to an interactive table.\"\n",
              "              style=\"display:none;\">\n",
              "        \n",
              "  <svg xmlns=\"http://www.w3.org/2000/svg\" height=\"24px\"viewBox=\"0 0 24 24\"\n",
              "       width=\"24px\">\n",
              "    <path d=\"M0 0h24v24H0V0z\" fill=\"none\"/>\n",
              "    <path d=\"M18.56 5.44l.94 2.06.94-2.06 2.06-.94-2.06-.94-.94-2.06-.94 2.06-2.06.94zm-11 1L8.5 8.5l.94-2.06 2.06-.94-2.06-.94L8.5 2.5l-.94 2.06-2.06.94zm10 10l.94 2.06.94-2.06 2.06-.94-2.06-.94-.94-2.06-.94 2.06-2.06.94z\"/><path d=\"M17.41 7.96l-1.37-1.37c-.4-.4-.92-.59-1.43-.59-.52 0-1.04.2-1.43.59L10.3 9.45l-7.72 7.72c-.78.78-.78 2.05 0 2.83L4 21.41c.39.39.9.59 1.41.59.51 0 1.02-.2 1.41-.59l7.78-7.78 2.81-2.81c.8-.78.8-2.07 0-2.86zM5.41 20L4 18.59l7.72-7.72 1.47 1.35L5.41 20z\"/>\n",
              "  </svg>\n",
              "      </button>\n",
              "      \n",
              "  <style>\n",
              "    .colab-df-container {\n",
              "      display:flex;\n",
              "      flex-wrap:wrap;\n",
              "      gap: 12px;\n",
              "    }\n",
              "\n",
              "    .colab-df-convert {\n",
              "      background-color: #E8F0FE;\n",
              "      border: none;\n",
              "      border-radius: 50%;\n",
              "      cursor: pointer;\n",
              "      display: none;\n",
              "      fill: #1967D2;\n",
              "      height: 32px;\n",
              "      padding: 0 0 0 0;\n",
              "      width: 32px;\n",
              "    }\n",
              "\n",
              "    .colab-df-convert:hover {\n",
              "      background-color: #E2EBFA;\n",
              "      box-shadow: 0px 1px 2px rgba(60, 64, 67, 0.3), 0px 1px 3px 1px rgba(60, 64, 67, 0.15);\n",
              "      fill: #174EA6;\n",
              "    }\n",
              "\n",
              "    [theme=dark] .colab-df-convert {\n",
              "      background-color: #3B4455;\n",
              "      fill: #D2E3FC;\n",
              "    }\n",
              "\n",
              "    [theme=dark] .colab-df-convert:hover {\n",
              "      background-color: #434B5C;\n",
              "      box-shadow: 0px 1px 3px 1px rgba(0, 0, 0, 0.15);\n",
              "      filter: drop-shadow(0px 1px 2px rgba(0, 0, 0, 0.3));\n",
              "      fill: #FFFFFF;\n",
              "    }\n",
              "  </style>\n",
              "\n",
              "      <script>\n",
              "        const buttonEl =\n",
              "          document.querySelector('#df-6e621f9a-c364-43c1-a3d6-f2a9b1ea3cff button.colab-df-convert');\n",
              "        buttonEl.style.display =\n",
              "          google.colab.kernel.accessAllowed ? 'block' : 'none';\n",
              "\n",
              "        async function convertToInteractive(key) {\n",
              "          const element = document.querySelector('#df-6e621f9a-c364-43c1-a3d6-f2a9b1ea3cff');\n",
              "          const dataTable =\n",
              "            await google.colab.kernel.invokeFunction('convertToInteractive',\n",
              "                                                     [key], {});\n",
              "          if (!dataTable) return;\n",
              "\n",
              "          const docLinkHtml = 'Like what you see? Visit the ' +\n",
              "            '<a target=\"_blank\" href=https://colab.research.google.com/notebooks/data_table.ipynb>data table notebook</a>'\n",
              "            + ' to learn more about interactive tables.';\n",
              "          element.innerHTML = '';\n",
              "          dataTable['output_type'] = 'display_data';\n",
              "          await google.colab.output.renderOutput(dataTable, element);\n",
              "          const docLink = document.createElement('div');\n",
              "          docLink.innerHTML = docLinkHtml;\n",
              "          element.appendChild(docLink);\n",
              "        }\n",
              "      </script>\n",
              "    </div>\n",
              "  </div>\n",
              "  "
            ]
          },
          "metadata": {},
          "execution_count": 3
        }
      ]
    },
    {
      "cell_type": "code",
      "source": [
        "## Divide the dataset into independent and dependent features\n",
        "\n",
        "X=df.iloc[:,3:13]\n",
        "y=df.iloc[:,13]"
      ],
      "metadata": {
        "id": "jirfPbJHeJy1"
      },
      "execution_count": null,
      "outputs": []
    },
    {
      "cell_type": "code",
      "source": [
        "## Ferature Engineering \n",
        "geography=pd.get_dummies(X['Geography'],drop_first=True)\n",
        "gender=pd.get_dummies(X['Gender'],drop_first=True)"
      ],
      "metadata": {
        "id": "Fm6WEk2Okoj4"
      },
      "execution_count": null,
      "outputs": []
    },
    {
      "cell_type": "code",
      "source": [
        "X=X.drop(['Geography','Gender'],axis=1)"
      ],
      "metadata": {
        "id": "afrV9BZPlSkL"
      },
      "execution_count": null,
      "outputs": []
    },
    {
      "cell_type": "code",
      "source": [
        "X=pd.concat([X,geography,gender],axis=1) "
      ],
      "metadata": {
        "id": "CiNrjA7zk2HS"
      },
      "execution_count": null,
      "outputs": []
    },
    {
      "cell_type": "code",
      "source": [
        "X.head()"
      ],
      "metadata": {
        "colab": {
          "base_uri": "https://localhost:8080/",
          "height": 206
        },
        "id": "gzAf5b60k2Ki",
        "outputId": "4752d812-61c7-40ab-b389-65460c9b9206"
      },
      "execution_count": null,
      "outputs": [
        {
          "output_type": "execute_result",
          "data": {
            "text/plain": [
              "   CreditScore  Age  Tenure    Balance  NumOfProducts  HasCrCard  \\\n",
              "0          619   42       2       0.00              1          1   \n",
              "1          608   41       1   83807.86              1          0   \n",
              "2          502   42       8  159660.80              3          1   \n",
              "3          699   39       1       0.00              2          0   \n",
              "4          850   43       2  125510.82              1          1   \n",
              "\n",
              "   IsActiveMember  EstimatedSalary  Germany  Spain  Male  \n",
              "0               1        101348.88        0      0     0  \n",
              "1               1        112542.58        0      1     0  \n",
              "2               0        113931.57        0      0     0  \n",
              "3               0         93826.63        0      0     0  \n",
              "4               1         79084.10        0      1     0  "
            ],
            "text/html": [
              "\n",
              "  <div id=\"df-ea611861-e9dd-42b7-b864-76132432af34\">\n",
              "    <div class=\"colab-df-container\">\n",
              "      <div>\n",
              "<style scoped>\n",
              "    .dataframe tbody tr th:only-of-type {\n",
              "        vertical-align: middle;\n",
              "    }\n",
              "\n",
              "    .dataframe tbody tr th {\n",
              "        vertical-align: top;\n",
              "    }\n",
              "\n",
              "    .dataframe thead th {\n",
              "        text-align: right;\n",
              "    }\n",
              "</style>\n",
              "<table border=\"1\" class=\"dataframe\">\n",
              "  <thead>\n",
              "    <tr style=\"text-align: right;\">\n",
              "      <th></th>\n",
              "      <th>CreditScore</th>\n",
              "      <th>Age</th>\n",
              "      <th>Tenure</th>\n",
              "      <th>Balance</th>\n",
              "      <th>NumOfProducts</th>\n",
              "      <th>HasCrCard</th>\n",
              "      <th>IsActiveMember</th>\n",
              "      <th>EstimatedSalary</th>\n",
              "      <th>Germany</th>\n",
              "      <th>Spain</th>\n",
              "      <th>Male</th>\n",
              "    </tr>\n",
              "  </thead>\n",
              "  <tbody>\n",
              "    <tr>\n",
              "      <th>0</th>\n",
              "      <td>619</td>\n",
              "      <td>42</td>\n",
              "      <td>2</td>\n",
              "      <td>0.00</td>\n",
              "      <td>1</td>\n",
              "      <td>1</td>\n",
              "      <td>1</td>\n",
              "      <td>101348.88</td>\n",
              "      <td>0</td>\n",
              "      <td>0</td>\n",
              "      <td>0</td>\n",
              "    </tr>\n",
              "    <tr>\n",
              "      <th>1</th>\n",
              "      <td>608</td>\n",
              "      <td>41</td>\n",
              "      <td>1</td>\n",
              "      <td>83807.86</td>\n",
              "      <td>1</td>\n",
              "      <td>0</td>\n",
              "      <td>1</td>\n",
              "      <td>112542.58</td>\n",
              "      <td>0</td>\n",
              "      <td>1</td>\n",
              "      <td>0</td>\n",
              "    </tr>\n",
              "    <tr>\n",
              "      <th>2</th>\n",
              "      <td>502</td>\n",
              "      <td>42</td>\n",
              "      <td>8</td>\n",
              "      <td>159660.80</td>\n",
              "      <td>3</td>\n",
              "      <td>1</td>\n",
              "      <td>0</td>\n",
              "      <td>113931.57</td>\n",
              "      <td>0</td>\n",
              "      <td>0</td>\n",
              "      <td>0</td>\n",
              "    </tr>\n",
              "    <tr>\n",
              "      <th>3</th>\n",
              "      <td>699</td>\n",
              "      <td>39</td>\n",
              "      <td>1</td>\n",
              "      <td>0.00</td>\n",
              "      <td>2</td>\n",
              "      <td>0</td>\n",
              "      <td>0</td>\n",
              "      <td>93826.63</td>\n",
              "      <td>0</td>\n",
              "      <td>0</td>\n",
              "      <td>0</td>\n",
              "    </tr>\n",
              "    <tr>\n",
              "      <th>4</th>\n",
              "      <td>850</td>\n",
              "      <td>43</td>\n",
              "      <td>2</td>\n",
              "      <td>125510.82</td>\n",
              "      <td>1</td>\n",
              "      <td>1</td>\n",
              "      <td>1</td>\n",
              "      <td>79084.10</td>\n",
              "      <td>0</td>\n",
              "      <td>1</td>\n",
              "      <td>0</td>\n",
              "    </tr>\n",
              "  </tbody>\n",
              "</table>\n",
              "</div>\n",
              "      <button class=\"colab-df-convert\" onclick=\"convertToInteractive('df-ea611861-e9dd-42b7-b864-76132432af34')\"\n",
              "              title=\"Convert this dataframe to an interactive table.\"\n",
              "              style=\"display:none;\">\n",
              "        \n",
              "  <svg xmlns=\"http://www.w3.org/2000/svg\" height=\"24px\"viewBox=\"0 0 24 24\"\n",
              "       width=\"24px\">\n",
              "    <path d=\"M0 0h24v24H0V0z\" fill=\"none\"/>\n",
              "    <path d=\"M18.56 5.44l.94 2.06.94-2.06 2.06-.94-2.06-.94-.94-2.06-.94 2.06-2.06.94zm-11 1L8.5 8.5l.94-2.06 2.06-.94-2.06-.94L8.5 2.5l-.94 2.06-2.06.94zm10 10l.94 2.06.94-2.06 2.06-.94-2.06-.94-.94-2.06-.94 2.06-2.06.94z\"/><path d=\"M17.41 7.96l-1.37-1.37c-.4-.4-.92-.59-1.43-.59-.52 0-1.04.2-1.43.59L10.3 9.45l-7.72 7.72c-.78.78-.78 2.05 0 2.83L4 21.41c.39.39.9.59 1.41.59.51 0 1.02-.2 1.41-.59l7.78-7.78 2.81-2.81c.8-.78.8-2.07 0-2.86zM5.41 20L4 18.59l7.72-7.72 1.47 1.35L5.41 20z\"/>\n",
              "  </svg>\n",
              "      </button>\n",
              "      \n",
              "  <style>\n",
              "    .colab-df-container {\n",
              "      display:flex;\n",
              "      flex-wrap:wrap;\n",
              "      gap: 12px;\n",
              "    }\n",
              "\n",
              "    .colab-df-convert {\n",
              "      background-color: #E8F0FE;\n",
              "      border: none;\n",
              "      border-radius: 50%;\n",
              "      cursor: pointer;\n",
              "      display: none;\n",
              "      fill: #1967D2;\n",
              "      height: 32px;\n",
              "      padding: 0 0 0 0;\n",
              "      width: 32px;\n",
              "    }\n",
              "\n",
              "    .colab-df-convert:hover {\n",
              "      background-color: #E2EBFA;\n",
              "      box-shadow: 0px 1px 2px rgba(60, 64, 67, 0.3), 0px 1px 3px 1px rgba(60, 64, 67, 0.15);\n",
              "      fill: #174EA6;\n",
              "    }\n",
              "\n",
              "    [theme=dark] .colab-df-convert {\n",
              "      background-color: #3B4455;\n",
              "      fill: #D2E3FC;\n",
              "    }\n",
              "\n",
              "    [theme=dark] .colab-df-convert:hover {\n",
              "      background-color: #434B5C;\n",
              "      box-shadow: 0px 1px 3px 1px rgba(0, 0, 0, 0.15);\n",
              "      filter: drop-shadow(0px 1px 2px rgba(0, 0, 0, 0.3));\n",
              "      fill: #FFFFFF;\n",
              "    }\n",
              "  </style>\n",
              "\n",
              "      <script>\n",
              "        const buttonEl =\n",
              "          document.querySelector('#df-ea611861-e9dd-42b7-b864-76132432af34 button.colab-df-convert');\n",
              "        buttonEl.style.display =\n",
              "          google.colab.kernel.accessAllowed ? 'block' : 'none';\n",
              "\n",
              "        async function convertToInteractive(key) {\n",
              "          const element = document.querySelector('#df-ea611861-e9dd-42b7-b864-76132432af34');\n",
              "          const dataTable =\n",
              "            await google.colab.kernel.invokeFunction('convertToInteractive',\n",
              "                                                     [key], {});\n",
              "          if (!dataTable) return;\n",
              "\n",
              "          const docLinkHtml = 'Like what you see? Visit the ' +\n",
              "            '<a target=\"_blank\" href=https://colab.research.google.com/notebooks/data_table.ipynb>data table notebook</a>'\n",
              "            + ' to learn more about interactive tables.';\n",
              "          element.innerHTML = '';\n",
              "          dataTable['output_type'] = 'display_data';\n",
              "          await google.colab.output.renderOutput(dataTable, element);\n",
              "          const docLink = document.createElement('div');\n",
              "          docLink.innerHTML = docLinkHtml;\n",
              "          element.appendChild(docLink);\n",
              "        }\n",
              "      </script>\n",
              "    </div>\n",
              "  </div>\n",
              "  "
            ]
          },
          "metadata": {},
          "execution_count": 8
        }
      ]
    },
    {
      "cell_type": "code",
      "source": [
        "#Splitting the dataset into Training set and Test Set\n",
        "from sklearn.model_selection import train_test_split\n",
        "\n",
        "X_train,X_test,y_train,y_test=train_test_split(X,y,test_size=0.2,random_state=0)"
      ],
      "metadata": {
        "id": "fs-iJPBsk2Ri"
      },
      "execution_count": null,
      "outputs": []
    },
    {
      "cell_type": "code",
      "source": [
        "from sklearn.preprocessing import StandardScaler\n",
        "sc =StandardScaler()\n",
        "X_train=sc.fit_transform(X_train)\n",
        "X_test=sc.transform(X_test)"
      ],
      "metadata": {
        "id": "mYw2zOPak2U1"
      },
      "execution_count": null,
      "outputs": []
    },
    {
      "cell_type": "code",
      "source": [
        "X_train"
      ],
      "metadata": {
        "colab": {
          "base_uri": "https://localhost:8080/"
        },
        "id": "DXoZSGYMk2Xt",
        "outputId": "b68af5f0-2ade-4962-a219-6dd64d5b0797"
      },
      "execution_count": null,
      "outputs": [
        {
          "output_type": "execute_result",
          "data": {
            "text/plain": [
              "array([[ 0.16958176, -0.46460796,  0.00666099, ..., -0.5698444 ,\n",
              "         1.74309049, -1.09168714],\n",
              "       [-2.30455945,  0.30102557, -1.37744033, ...,  1.75486502,\n",
              "        -0.57369368,  0.91601335],\n",
              "       [-1.19119591, -0.94312892, -1.031415  , ..., -0.5698444 ,\n",
              "        -0.57369368, -1.09168714],\n",
              "       ...,\n",
              "       [ 0.9015152 , -0.36890377,  0.00666099, ..., -0.5698444 ,\n",
              "        -0.57369368,  0.91601335],\n",
              "       [-0.62420521, -0.08179119,  1.39076231, ..., -0.5698444 ,\n",
              "         1.74309049, -1.09168714],\n",
              "       [-0.28401079,  0.87525072, -1.37744033, ...,  1.75486502,\n",
              "        -0.57369368, -1.09168714]])"
            ]
          },
          "metadata": {},
          "execution_count": 12
        }
      ]
    },
    {
      "cell_type": "code",
      "source": [
        "X_test"
      ],
      "metadata": {
        "colab": {
          "base_uri": "https://localhost:8080/"
        },
        "id": "EqHM8ZXTk2aw",
        "outputId": "b28907f6-b6f3-47ac-9140-e27415008c5e"
      },
      "execution_count": null,
      "outputs": [
        {
          "output_type": "execute_result",
          "data": {
            "text/plain": [
              "array([[-0.55204276, -0.36890377,  1.04473698, ...,  1.75486502,\n",
              "        -0.57369368, -1.09168714],\n",
              "       [-1.31490297,  0.10961719, -1.031415  , ..., -0.5698444 ,\n",
              "        -0.57369368, -1.09168714],\n",
              "       [ 0.57162971,  0.30102557,  1.04473698, ..., -0.5698444 ,\n",
              "         1.74309049, -1.09168714],\n",
              "       ...,\n",
              "       [-0.74791227, -0.27319958, -1.37744033, ..., -0.5698444 ,\n",
              "         1.74309049,  0.91601335],\n",
              "       [-0.00566991, -0.46460796, -0.33936434, ...,  1.75486502,\n",
              "        -0.57369368,  0.91601335],\n",
              "       [-0.79945688, -0.84742473,  1.04473698, ...,  1.75486502,\n",
              "        -0.57369368,  0.91601335]])"
            ]
          },
          "metadata": {},
          "execution_count": 13
        }
      ]
    },
    {
      "cell_type": "code",
      "source": [
        "## Part 2 Now lets create the ANN\n",
        "from tensorflow.keras.models import Sequential\n",
        "from tensorflow.keras.layers import Dense\n",
        "from tensorflow.keras.layers import LeakyReLU,PReLU,ELU,ReLU\n",
        "from tensorflow.keras.layers import Dropout"
      ],
      "metadata": {
        "id": "nBIW6yi-k2dy"
      },
      "execution_count": null,
      "outputs": []
    },
    {
      "cell_type": "code",
      "source": [
        "### Lets initialize the ANN\n",
        "classifier=Sequential()"
      ],
      "metadata": {
        "id": "NaD1LAB2k2jt"
      },
      "execution_count": null,
      "outputs": []
    },
    {
      "cell_type": "code",
      "source": [
        "classifier.add(Dense(10,input_shape=(11,),activation='relu'))"
      ],
      "metadata": {
        "id": "fW-56xQXk2mi"
      },
      "execution_count": null,
      "outputs": []
    },
    {
      "cell_type": "code",
      "source": [
        "classifier"
      ],
      "metadata": {
        "colab": {
          "base_uri": "https://localhost:8080/"
        },
        "id": "POHYv1YHrGfW",
        "outputId": "ee6e7269-1465-4780-af0f-ab6d7f00b1a5"
      },
      "execution_count": null,
      "outputs": [
        {
          "output_type": "execute_result",
          "data": {
            "text/plain": [
              "<keras.engine.sequential.Sequential at 0x7fb53bd0e730>"
            ]
          },
          "metadata": {},
          "execution_count": 21
        }
      ]
    },
    {
      "cell_type": "code",
      "source": [
        "# adding the first hidden layer\n",
        "classifier.add(Dense(units=10,activation='relu'))\n",
        "#classifier.add(Dropout(0.2))"
      ],
      "metadata": {
        "id": "806UNVp1rGiO"
      },
      "execution_count": null,
      "outputs": []
    },
    {
      "cell_type": "code",
      "source": [
        "##adding the second hidden layer\n",
        "classifier.add(Dense(units=10,activation='relu'))\n",
        "#classifier.add(Dropout(0.3))"
      ],
      "metadata": {
        "id": "vPddrDdSrGvG"
      },
      "execution_count": null,
      "outputs": []
    },
    {
      "cell_type": "code",
      "source": [
        "##  Adding the output layer\n",
        "classifier.add(Dense(1,activation='sigmoid'))"
      ],
      "metadata": {
        "id": "61cht-KbrGyb"
      },
      "execution_count": null,
      "outputs": []
    },
    {
      "cell_type": "code",
      "source": [
        "classifier.summary()"
      ],
      "metadata": {
        "colab": {
          "base_uri": "https://localhost:8080/"
        },
        "id": "COsKVI6NrG1Z",
        "outputId": "75aceb8f-f2ca-4457-a9c4-70f5b5dadb0b"
      },
      "execution_count": null,
      "outputs": [
        {
          "output_type": "stream",
          "name": "stdout",
          "text": [
            "Model: \"sequential_2\"\n",
            "_________________________________________________________________\n",
            " Layer (type)                Output Shape              Param #   \n",
            "=================================================================\n",
            " dense (Dense)               (None, 10)                120       \n",
            "                                                                 \n",
            " dense_1 (Dense)             (None, 10)                110       \n",
            "                                                                 \n",
            " dense_2 (Dense)             (None, 10)                110       \n",
            "                                                                 \n",
            " dense_3 (Dense)             (None, 1)                 11        \n",
            "                                                                 \n",
            "=================================================================\n",
            "Total params: 351\n",
            "Trainable params: 351\n",
            "Non-trainable params: 0\n",
            "_________________________________________________________________\n"
          ]
        }
      ]
    },
    {
      "cell_type": "code",
      "source": [
        "classifier.compile(optimizer=opt,loss='binary_crossentropy',metrics=['accuracy'])"
      ],
      "metadata": {
        "id": "wH0dlxe9rG4u"
      },
      "execution_count": null,
      "outputs": []
    },
    {
      "cell_type": "code",
      "source": [
        "opt=tf.keras.optimizers.Adam(learning_rate=0.01)"
      ],
      "metadata": {
        "id": "Bs6PBbbOwUQP"
      },
      "execution_count": null,
      "outputs": []
    },
    {
      "cell_type": "code",
      "source": [
        "## Early Stopping\n",
        "import tensorflow as tf\n",
        "early_stopping=tf.keras.callbacks.EarlyStopping(\n",
        "    monitor=\"val_loss\",\n",
        "    patience=20\n",
        "   \n",
        ")"
      ],
      "metadata": {
        "id": "nwpOVuKDwi9k"
      },
      "execution_count": null,
      "outputs": []
    },
    {
      "cell_type": "code",
      "source": [
        "model_history=classifier.fit(X_train,y_train,validation_data=(X_test,y_test),batch_size=10,epochs=100,callbacks=early_stopping)"
      ],
      "metadata": {
        "colab": {
          "base_uri": "https://localhost:8080/"
        },
        "id": "47Uz67lswjAa",
        "outputId": "7b6a0ac9-be23-40a2-de8e-8d5553b34ec6"
      },
      "execution_count": null,
      "outputs": [
        {
          "output_type": "stream",
          "name": "stdout",
          "text": [
            "Epoch 1/100\n",
            "800/800 [==============================] - 2s 3ms/step - loss: 0.3432 - accuracy: 0.8609 - val_loss: 0.3403 - val_accuracy: 0.8595\n",
            "Epoch 2/100\n",
            "800/800 [==============================] - 2s 3ms/step - loss: 0.3421 - accuracy: 0.8580 - val_loss: 0.3426 - val_accuracy: 0.8600\n",
            "Epoch 3/100\n",
            "800/800 [==============================] - 2s 3ms/step - loss: 0.3417 - accuracy: 0.8595 - val_loss: 0.3420 - val_accuracy: 0.8585\n",
            "Epoch 4/100\n",
            "800/800 [==============================] - 2s 3ms/step - loss: 0.3390 - accuracy: 0.8614 - val_loss: 0.3402 - val_accuracy: 0.8620\n",
            "Epoch 5/100\n",
            "800/800 [==============================] - 2s 3ms/step - loss: 0.3399 - accuracy: 0.8615 - val_loss: 0.3519 - val_accuracy: 0.8535\n",
            "Epoch 6/100\n",
            "800/800 [==============================] - 2s 3ms/step - loss: 0.3381 - accuracy: 0.8631 - val_loss: 0.3396 - val_accuracy: 0.8595\n",
            "Epoch 7/100\n",
            "800/800 [==============================] - 2s 3ms/step - loss: 0.3405 - accuracy: 0.8606 - val_loss: 0.3438 - val_accuracy: 0.8590\n",
            "Epoch 8/100\n",
            "800/800 [==============================] - 2s 3ms/step - loss: 0.3395 - accuracy: 0.8612 - val_loss: 0.3361 - val_accuracy: 0.8610\n",
            "Epoch 9/100\n",
            "800/800 [==============================] - 2s 3ms/step - loss: 0.3389 - accuracy: 0.8634 - val_loss: 0.3446 - val_accuracy: 0.8575\n",
            "Epoch 10/100\n",
            "800/800 [==============================] - 2s 3ms/step - loss: 0.3401 - accuracy: 0.8631 - val_loss: 0.3451 - val_accuracy: 0.8565\n",
            "Epoch 11/100\n",
            "800/800 [==============================] - 2s 3ms/step - loss: 0.3365 - accuracy: 0.8644 - val_loss: 0.3442 - val_accuracy: 0.8610\n",
            "Epoch 12/100\n",
            "800/800 [==============================] - 2s 3ms/step - loss: 0.3384 - accuracy: 0.8636 - val_loss: 0.3477 - val_accuracy: 0.8575\n",
            "Epoch 13/100\n",
            "800/800 [==============================] - 2s 3ms/step - loss: 0.3370 - accuracy: 0.8626 - val_loss: 0.3416 - val_accuracy: 0.8610\n",
            "Epoch 14/100\n",
            "800/800 [==============================] - 2s 3ms/step - loss: 0.3344 - accuracy: 0.8658 - val_loss: 0.3424 - val_accuracy: 0.8600\n",
            "Epoch 15/100\n",
            "800/800 [==============================] - 2s 3ms/step - loss: 0.3358 - accuracy: 0.8626 - val_loss: 0.3418 - val_accuracy: 0.8605\n",
            "Epoch 16/100\n",
            "800/800 [==============================] - 2s 3ms/step - loss: 0.3377 - accuracy: 0.8637 - val_loss: 0.3509 - val_accuracy: 0.8600\n",
            "Epoch 17/100\n",
            "800/800 [==============================] - 2s 3ms/step - loss: 0.3356 - accuracy: 0.8631 - val_loss: 0.3392 - val_accuracy: 0.8655\n",
            "Epoch 18/100\n",
            "800/800 [==============================] - 2s 3ms/step - loss: 0.3364 - accuracy: 0.8637 - val_loss: 0.3504 - val_accuracy: 0.8575\n",
            "Epoch 19/100\n",
            "800/800 [==============================] - 2s 3ms/step - loss: 0.3380 - accuracy: 0.8639 - val_loss: 0.3358 - val_accuracy: 0.8625\n",
            "Epoch 20/100\n",
            "800/800 [==============================] - 2s 3ms/step - loss: 0.3361 - accuracy: 0.8627 - val_loss: 0.3476 - val_accuracy: 0.8595\n",
            "Epoch 21/100\n",
            "800/800 [==============================] - 2s 3ms/step - loss: 0.3334 - accuracy: 0.8648 - val_loss: 0.3399 - val_accuracy: 0.8620\n",
            "Epoch 22/100\n",
            "800/800 [==============================] - 2s 3ms/step - loss: 0.3345 - accuracy: 0.8627 - val_loss: 0.3472 - val_accuracy: 0.8590\n",
            "Epoch 23/100\n",
            "800/800 [==============================] - 2s 3ms/step - loss: 0.3356 - accuracy: 0.8633 - val_loss: 0.3649 - val_accuracy: 0.8580\n",
            "Epoch 24/100\n",
            "800/800 [==============================] - 2s 3ms/step - loss: 0.3365 - accuracy: 0.8620 - val_loss: 0.3471 - val_accuracy: 0.8645\n",
            "Epoch 25/100\n",
            "800/800 [==============================] - 2s 3ms/step - loss: 0.3356 - accuracy: 0.8641 - val_loss: 0.3465 - val_accuracy: 0.8610\n",
            "Epoch 26/100\n",
            "800/800 [==============================] - 2s 3ms/step - loss: 0.3335 - accuracy: 0.8640 - val_loss: 0.3574 - val_accuracy: 0.8610\n",
            "Epoch 27/100\n",
            "800/800 [==============================] - 2s 3ms/step - loss: 0.3351 - accuracy: 0.8645 - val_loss: 0.3403 - val_accuracy: 0.8640\n",
            "Epoch 28/100\n",
            "800/800 [==============================] - 2s 3ms/step - loss: 0.3349 - accuracy: 0.8666 - val_loss: 0.3402 - val_accuracy: 0.8600\n",
            "Epoch 29/100\n",
            "800/800 [==============================] - 2s 3ms/step - loss: 0.3353 - accuracy: 0.8664 - val_loss: 0.3543 - val_accuracy: 0.8620\n",
            "Epoch 30/100\n",
            "800/800 [==============================] - 2s 3ms/step - loss: 0.3344 - accuracy: 0.8629 - val_loss: 0.3397 - val_accuracy: 0.8625\n",
            "Epoch 31/100\n",
            "800/800 [==============================] - 2s 3ms/step - loss: 0.3358 - accuracy: 0.8633 - val_loss: 0.3374 - val_accuracy: 0.8635\n",
            "Epoch 32/100\n",
            "800/800 [==============================] - 2s 3ms/step - loss: 0.3333 - accuracy: 0.8645 - val_loss: 0.3527 - val_accuracy: 0.8610\n",
            "Epoch 33/100\n",
            "800/800 [==============================] - 2s 3ms/step - loss: 0.3353 - accuracy: 0.8626 - val_loss: 0.3396 - val_accuracy: 0.8625\n",
            "Epoch 34/100\n",
            "800/800 [==============================] - 2s 3ms/step - loss: 0.3330 - accuracy: 0.8656 - val_loss: 0.3662 - val_accuracy: 0.8525\n",
            "Epoch 35/100\n",
            "800/800 [==============================] - 2s 3ms/step - loss: 0.3332 - accuracy: 0.8670 - val_loss: 0.3436 - val_accuracy: 0.8640\n",
            "Epoch 36/100\n",
            "800/800 [==============================] - 2s 3ms/step - loss: 0.3360 - accuracy: 0.8626 - val_loss: 0.3371 - val_accuracy: 0.8590\n",
            "Epoch 37/100\n",
            "800/800 [==============================] - 2s 3ms/step - loss: 0.3325 - accuracy: 0.8639 - val_loss: 0.3465 - val_accuracy: 0.8600\n",
            "Epoch 38/100\n",
            "800/800 [==============================] - 2s 3ms/step - loss: 0.3336 - accuracy: 0.8626 - val_loss: 0.3422 - val_accuracy: 0.8625\n",
            "Epoch 39/100\n",
            "800/800 [==============================] - 2s 3ms/step - loss: 0.3348 - accuracy: 0.8639 - val_loss: 0.3479 - val_accuracy: 0.8590\n"
          ]
        }
      ]
    },
    {
      "cell_type": "code",
      "source": [
        "model_history.history.keys()"
      ],
      "metadata": {
        "colab": {
          "base_uri": "https://localhost:8080/"
        },
        "id": "UXGuOtD9wjDJ",
        "outputId": "d29e41e0-17aa-486b-f03e-f8e70c323e74"
      },
      "execution_count": null,
      "outputs": [
        {
          "output_type": "execute_result",
          "data": {
            "text/plain": [
              "dict_keys(['loss', 'accuracy', 'val_loss', 'val_accuracy'])"
            ]
          },
          "metadata": {},
          "execution_count": 43
        }
      ]
    },
    {
      "cell_type": "code",
      "source": [
        "# summarize history for accuracy\n",
        "plt.plot(model_history.history['accuracy'])\n",
        "plt.plot(model_history.history['val_accuracy'])\n",
        "plt.title('model accuracy')\n",
        "plt.ylabel('accuracy')\n",
        "plt.xlabel('epoch')\n",
        "plt.legend(['train', 'test'], loc='upper left')\n",
        "plt.show()"
      ],
      "metadata": {
        "colab": {
          "base_uri": "https://localhost:8080/",
          "height": 295
        },
        "id": "9RizAtVKwjGJ",
        "outputId": "05ac35ab-fa45-4ab5-cc1c-56973a56c7cb"
      },
      "execution_count": null,
      "outputs": [
        {
          "output_type": "display_data",
          "data": {
            "text/plain": [
              "<Figure size 432x288 with 1 Axes>"
            ],
            "image/png": "[encoded data removed]"
          },
          "metadata": {
            "needs_background": "light"
          }
        }
      ]
    },
    {
      "cell_type": "code",
      "source": [
        "# summarize history for loss\n",
        "plt.plot(model_history.history['loss'])\n",
        "plt.plot(model_history.history['val_loss'])\n",
        "plt.title('model loss')\n",
        "plt.ylabel('loss')\n",
        "plt.xlabel('epoch')\n",
        "plt.legend(['train', 'test'], loc='upper left')\n",
        "plt.show()"
      ],
      "metadata": {
        "colab": {
          "base_uri": "https://localhost:8080/",
          "height": 295
        },
        "id": "pOSAO6uiwjI7",
        "outputId": "a70d81e0-9e2b-4bdd-d4c9-72850cf4c130"
      },
      "execution_count": null,
      "outputs": [
        {
          "output_type": "display_data",
          "data": {
            "text/plain": [
              "<Figure size 432x288 with 1 Axes>"
            ],
            "image/png": "[encoded data removed]"
          },
          "metadata": {
            "needs_background": "light"
          }
        }
      ]
    },
    {
      "cell_type": "code",
      "source": [
        "# Part 3 - Making the predictions and evaluating the model\n",
        "\n",
        "# Predicting the Test set results\n",
        "y_pred = classifier.predict(X_test)\n",
        "y_pred = (y_pred >= 0.5)"
      ],
      "metadata": {
        "colab": {
          "base_uri": "https://localhost:8080/"
        },
        "id": "4iTqCtMWwjLd",
        "outputId": "6a35e7ed-981f-4676-8d87-38a4bf54fb75"
      },
      "execution_count": null,
      "outputs": [
        {
          "output_type": "stream",
          "name": "stdout",
          "text": [
            "63/63 [==============================] - 0s 3ms/step\n"
          ]
        }
      ]
    },
    {
      "cell_type": "code",
      "source": [
        "## make the confusion matrix\n",
        "from sklearn.metrics import confusion_matrix\n",
        "cm=confusion_matrix(y_test,y_pred)\n",
        "cm"
      ],
      "metadata": {
        "colab": {
          "base_uri": "https://localhost:8080/"
        },
        "id": "NTiDJ2d2wjOO",
        "outputId": "be9790dc-1875-4c63-8aa1-31a80098272c"
      },
      "execution_count": null,
      "outputs": [
        {
          "output_type": "execute_result",
          "data": {
            "text/plain": [
              "array([[1538,   57],\n",
              "       [ 225,  180]])"
            ]
          },
          "metadata": {},
          "execution_count": 47
        }
      ]
    },
    {
      "cell_type": "code",
      "source": [
        "## Calculate the accuracy\n",
        "from sklearn.metrics import accuracy_score\n",
        "score=accuracy_score(y_pred,y_test)\n",
        "score"
      ],
      "metadata": {
        "colab": {
          "base_uri": "https://localhost:8080/"
        },
        "id": "JPUVeOWZzUTc",
        "outputId": "0267c915-a58a-4313-9dda-21427c3538de"
      },
      "execution_count": null,
      "outputs": [
        {
          "output_type": "execute_result",
          "data": {
            "text/plain": [
              "0.859"
            ]
          },
          "metadata": {},
          "execution_count": 48
        }
      ]
    },
    {
      "cell_type": "code",
      "source": [
        "##get the weights\n",
        "classifier.get_weights()"
      ],
      "metadata": {
        "colab": {
          "base_uri": "https://localhost:8080/"
        },
        "id": "4NcGP2nwzVdQ",
        "outputId": "16a8d953-4ed5-4124-d5e8-e4a053c8f556"
      },
      "execution_count": null,
      "outputs": [
        {
          "output_type": "execute_result",
          "data": {
            "text/plain": [
              "[array([[-0.0480971 ,  1.5965813 , -0.09734328, -0.02796393,  0.19836634,\n",
              "         -1.6597499 , -0.3478716 ,  0.642032  , -0.22837833,  0.3885008 ],\n",
              "        [-4.326165  , -1.9313787 , -1.4328883 ,  1.3367083 ,  4.1971765 ,\n",
              "          2.0619714 ,  1.1827929 ,  0.78781074,  3.2081645 , -1.6527395 ],\n",
              "        [-0.2954398 ,  0.3627953 ,  0.16366823, -0.5155376 , -0.069732  ,\n",
              "         -0.76730204,  0.17481081,  0.23789069, -0.12293125, -0.0171904 ],\n",
              "        [ 1.1988163 , -1.1311271 ,  0.07047445,  3.5434163 ,  0.7068093 ,\n",
              "         -0.14635003,  0.9799699 , -0.05688271, -1.5210376 ,  0.5075801 ],\n",
              "        [-3.5090816 ,  0.8554012 , -0.40762362,  3.1729984 ,  1.7030225 ,\n",
              "         -2.0999463 ,  3.7051344 ,  1.0271828 , -5.1818757 , -1.6904447 ],\n",
              "        [-0.10325828,  2.1000414 , -1.1226498 , -0.188929  , -0.2504626 ,\n",
              "          0.2218461 , -0.47104   , -0.39065492, -0.16209766,  1.3810012 ],\n",
              "        [-1.0062263 ,  0.01373931,  0.34020177, -1.1092609 ,  1.7664738 ,\n",
              "          0.2191727 , -0.6089463 , -2.225731  , -1.0019523 ,  2.382544  ],\n",
              "        [ 0.7137152 ,  2.1307333 , -1.1464734 ,  0.10115501, -0.01738763,\n",
              "          1.6712719 , -0.37026465,  1.7058747 ,  0.01400057,  1.4728961 ],\n",
              "        [-0.9592446 , -0.8212554 , -1.5410929 , -0.32233772, -0.38358736,\n",
              "         -0.24383347, -0.08506941, -3.1624467 ,  2.132998  ,  0.33162075],\n",
              "        [ 0.38795656, -0.06584726, -0.9676145 , -0.46331838,  0.8319582 ,\n",
              "         -1.226944  ,  0.924238  ,  0.6237036 ,  0.11653196,  1.743155  ],\n",
              "        [-0.56593746,  1.9586817 ,  1.8741773 , -0.79767483, -0.05641372,\n",
              "          0.56060684,  0.00646578, -0.5929461 , -0.2616095 ,  0.5668236 ]],\n",
              "       dtype=float32),\n",
              " array([ 0.93920696, -1.8292385 ,  0.7777669 , -0.5784669 , -4.2164326 ,\n",
              "        -4.545368  , -4.7638793 , -1.0669307 , -0.8655288 , -0.29800946],\n",
              "       dtype=float32),\n",
              " array([[-1.0237352 , -0.37245548, -0.58931047, -0.5674668 , -3.5357823 ,\n",
              "         -0.18626012, -0.5806161 , -1.8876653 , -0.34943488, -0.716123  ],\n",
              "        [ 1.6095456 , -1.439847  ,  1.1906111 , -1.2554135 ,  1.5935647 ,\n",
              "         -1.3058585 , -0.10480589,  0.791874  ,  0.72890294, -0.5597893 ],\n",
              "        [ 0.0522052 , -0.2681753 , -0.10497587, -0.69680744, -0.91635615,\n",
              "          0.8643346 , -0.31503803, -0.6933249 , -0.1013044 , -0.36602762],\n",
              "        [-3.52194   , -1.4726988 ,  0.6082599 , -0.3285184 ,  0.4488888 ,\n",
              "         -2.0125606 , -0.27419022,  0.67687327, -0.93515545, -0.11506433],\n",
              "        [ 1.3476657 ,  2.4048498 , -4.299793  , -0.60537   ,  0.30956587,\n",
              "         -1.6378974 , -0.34320477, -1.630691  ,  0.77120847, -0.1970161 ],\n",
              "        [-0.5914336 ,  1.5692816 , -3.2874062 ,  0.1507765 , -0.05962686,\n",
              "         -1.0006392 ,  0.17540056,  1.3016697 , -0.874807  , -0.9601471 ],\n",
              "        [-2.8377323 , -1.1480762 , -0.76146096,  0.09814195,  1.3571254 ,\n",
              "          1.3420582 , -0.14490029,  3.1764355 , -1.3233279 , -0.2774991 ],\n",
              "        [ 0.6632466 , -1.6808786 ,  0.2578322 , -0.30127528,  0.2749504 ,\n",
              "          0.5775318 , -0.58474725,  1.4229054 , -0.8577498 , -0.32968265],\n",
              "        [-2.599046  ,  0.15207016, -2.0870948 , -0.28842562, -0.994401  ,\n",
              "         -2.2414804 , -0.09727682,  1.5894508 , -1.1338495 , -0.18871813],\n",
              "        [ 0.5972824 , -2.0051591 , -0.17913191, -1.7556264 , -0.21122551,\n",
              "          0.11302774, -0.40537602, -1.6160703 ,  0.258997  ,  0.02968906]],\n",
              "       dtype=float32),\n",
              " array([ 0.9973773 , -3.5518477 ,  4.4206023 , -1.2453985 , -5.3290524 ,\n",
              "         4.1189804 , -0.64868665, -1.0142779 , -1.3193821 , -0.3060291 ],\n",
              "       dtype=float32),\n",
              " array([[-1.46052375e-01, -4.46163684e-01,  6.14688814e-01,\n",
              "          2.33970389e-01, -5.72066978e-02,  1.14158377e-01,\n",
              "         -4.91787165e-01, -2.41197050e-01,  4.66327518e-01,\n",
              "         -8.22506621e-02],\n",
              "        [-2.48268232e-01, -9.99916077e-01,  6.33368373e-01,\n",
              "         -2.16912746e-01,  3.91927501e-03, -1.75169766e+00,\n",
              "         -2.64037065e-02, -7.40718544e-02, -3.82699668e-01,\n",
              "         -1.82025445e+00],\n",
              "        [-3.88713330e-01, -9.59407151e-01,  6.71408892e-01,\n",
              "         -1.77917123e-01, -8.84836540e-02, -8.79853442e-02,\n",
              "         -8.77355866e-04, -1.01856776e-01,  6.30089283e-01,\n",
              "         -2.37129688e+00],\n",
              "        [-2.28296980e-01,  1.62848398e-01, -1.30518928e-01,\n",
              "         -1.66904598e-01, -2.06770152e-01,  4.67778258e-02,\n",
              "         -4.70466502e-02, -1.83437094e-01,  1.36992109e+00,\n",
              "         -2.09519178e-01],\n",
              "        [-2.07795992e-01,  9.29909348e-01,  1.26864955e-01,\n",
              "          1.38025731e-01, -6.80991948e-01, -1.32009637e+00,\n",
              "         -3.76390427e-01, -2.40599841e-01,  6.06372952e-01,\n",
              "          1.02397358e+00],\n",
              "        [-6.17966115e-01, -1.90829182e+00,  5.23593128e-01,\n",
              "         -6.01293087e-01, -2.42473021e-01, -7.13447750e-01,\n",
              "         -5.47288895e-01, -6.23809636e-01,  1.70135915e-01,\n",
              "         -1.16987133e+00],\n",
              "        [ 1.61178276e-01,  1.22366086e-01,  1.13187497e-02,\n",
              "          5.15806377e-02,  3.76412362e-01, -1.10925131e-01,\n",
              "         -2.12615907e-01,  3.20651323e-01, -3.12450141e-01,\n",
              "          4.37915295e-01],\n",
              "        [-4.68008608e-01,  4.50041980e-01, -6.05699420e-01,\n",
              "         -1.08608329e+00, -1.75355911e+00, -6.30031884e-01,\n",
              "         -5.23190975e-01, -4.27891999e-01, -4.59626102e+00,\n",
              "         -3.25440645e-01],\n",
              "        [-8.36405396e-01, -1.62075555e+00, -2.50983518e-02,\n",
              "          3.50862682e-01, -2.59620517e-01,  1.00759059e-01,\n",
              "         -4.61198002e-01, -7.96031535e-01,  1.70712143e-01,\n",
              "         -1.57418180e+00],\n",
              "        [-2.66120344e-01,  1.00692399e-01,  4.21813101e-01,\n",
              "          6.79313242e-01, -1.68561131e-01,  1.17262036e-01,\n",
              "          4.21887010e-01,  1.94815606e-01, -2.60626256e-01,\n",
              "         -1.74114048e-01]], dtype=float32),\n",
              " array([-1.5855091 ,  0.98730797, -0.09312566, -2.0108519 , -0.9676489 ,\n",
              "        -1.7746058 , -0.1729797 , -1.285625  ,  0.4776227 , -2.8921018 ],\n",
              "       dtype=float32),\n",
              " array([[ 0.12544002],\n",
              "        [ 0.25143975],\n",
              "        [-0.20971024],\n",
              "        [-0.03920427],\n",
              "        [ 0.04924993],\n",
              "        [ 0.02447674],\n",
              "        [ 0.47358242],\n",
              "        [-0.26030338],\n",
              "        [-0.22532678],\n",
              "        [ 0.3153313 ]], dtype=float32),\n",
              " array([-1.2483511], dtype=float32)]"
            ]
          },
          "metadata": {},
          "execution_count": 49
        }
      ]
    },
    {
      "cell_type": "code",
      "source": [
        "## Saving h5 file\n",
        "classifier.save('model.h5')"
      ],
      "metadata": {
        "id": "BeuVZSjFzgOM"
      },
      "execution_count": null,
      "outputs": []
    },
    {
      "cell_type": "code",
      "source": [
        "##laoding h5 file\n",
        "from tensorflow import keras\n",
        "classifier1=keras.models.load_model('model.h5')"
      ],
      "metadata": {
        "id": "XLvI2mjnzgRa"
      },
      "execution_count": null,
      "outputs": []
    },
    {
      "cell_type": "code",
      "source": [
        "classifier1.predict(X_test)"
      ],
      "metadata": {
        "colab": {
          "base_uri": "https://localhost:8080/"
        },
        "id": "-1CgQsXmzgUe",
        "outputId": "97fdff5c-5b8e-485b-8755-3cbb24f0c292"
      },
      "execution_count": null,
      "outputs": [
        {
          "output_type": "stream",
          "name": "stdout",
          "text": [
            "63/63 [==============================] - 0s 1ms/step\n"
          ]
        },
        {
          "output_type": "execute_result",
          "data": {
            "text/plain": [
              "array([[0.2482955 ],\n",
              "       [0.2482955 ],\n",
              "       [0.2482955 ],\n",
              "       ...,\n",
              "       [0.13263653],\n",
              "       [0.2482955 ],\n",
              "       [0.2482955 ]], dtype=float32)"
            ]
          },
          "metadata": {},
          "execution_count": 52
        }
      ]
    },
    {
      "cell_type": "code",
      "source": [
        "df.head()"
      ],
      "metadata": {
        "colab": {
          "base_uri": "https://localhost:8080/",
          "height": 206
        },
        "id": "G-14VI3pzgXb",
        "outputId": "131b1222-d605-4ce2-b864-a1d844371664"
      },
      "execution_count": null,
      "outputs": [
        {
          "output_type": "execute_result",
          "data": {
            "text/plain": [
              "   RowNumber  CustomerId   Surname  CreditScore Geography  Gender  Age  \\\n",
              "0          1    15634602  Hargrave          619    France  Female   42   \n",
              "1          2    15647311      Hill          608     Spain  Female   41   \n",
              "2          3    15619304      Onio          502    France  Female   42   \n",
              "3          4    15701354      Boni          699    France  Female   39   \n",
              "4          5    15737888  Mitchell          850     Spain  Female   43   \n",
              "\n",
              "   Tenure    Balance  NumOfProducts  HasCrCard  IsActiveMember  \\\n",
              "0       2       0.00              1          1               1   \n",
              "1       1   83807.86              1          0               1   \n",
              "2       8  159660.80              3          1               0   \n",
              "3       1       0.00              2          0               0   \n",
              "4       2  125510.82              1          1               1   \n",
              "\n",
              "   EstimatedSalary  Exited  \n",
              "0        101348.88       1  \n",
              "1        112542.58       0  \n",
              "2        113931.57       1  \n",
              "3         93826.63       0  \n",
              "4         79084.10       0  "
            ],
            "text/html": [
              "\n",
              "  <div id=\"df-2baff7c3-86de-480c-ae2e-3fabdeffd590\">\n",
              "    <div class=\"colab-df-container\">\n",
              "      <div>\n",
              "<style scoped>\n",
              "    .dataframe tbody tr th:only-of-type {\n",
              "        vertical-align: middle;\n",
              "    }\n",
              "\n",
              "    .dataframe tbody tr th {\n",
              "        vertical-align: top;\n",
              "    }\n",
              "\n",
              "    .dataframe thead th {\n",
              "        text-align: right;\n",
              "    }\n",
              "</style>\n",
              "<table border=\"1\" class=\"dataframe\">\n",
              "  <thead>\n",
              "    <tr style=\"text-align: right;\">\n",
              "      <th></th>\n",
              "      <th>RowNumber</th>\n",
              "      <th>CustomerId</th>\n",
              "      <th>Surname</th>\n",
              "      <th>CreditScore</th>\n",
              "      <th>Geography</th>\n",
              "      <th>Gender</th>\n",
              "      <th>Age</th>\n",
              "      <th>Tenure</th>\n",
              "      <th>Balance</th>\n",
              "      <th>NumOfProducts</th>\n",
              "      <th>HasCrCard</th>\n",
              "      <th>IsActiveMember</th>\n",
              "      <th>EstimatedSalary</th>\n",
              "      <th>Exited</th>\n",
              "    </tr>\n",
              "  </thead>\n",
              "  <tbody>\n",
              "    <tr>\n",
              "      <th>0</th>\n",
              "      <td>1</td>\n",
              "      <td>15634602</td>\n",
              "      <td>Hargrave</td>\n",
              "      <td>619</td>\n",
              "      <td>France</td>\n",
              "      <td>Female</td>\n",
              "      <td>42</td>\n",
              "      <td>2</td>\n",
              "      <td>0.00</td>\n",
              "      <td>1</td>\n",
              "      <td>1</td>\n",
              "      <td>1</td>\n",
              "      <td>101348.88</td>\n",
              "      <td>1</td>\n",
              "    </tr>\n",
              "    <tr>\n",
              "      <th>1</th>\n",
              "      <td>2</td>\n",
              "      <td>15647311</td>\n",
              "      <td>Hill</td>\n",
              "      <td>608</td>\n",
              "      <td>Spain</td>\n",
              "      <td>Female</td>\n",
              "      <td>41</td>\n",
              "      <td>1</td>\n",
              "      <td>83807.86</td>\n",
              "      <td>1</td>\n",
              "      <td>0</td>\n",
              "      <td>1</td>\n",
              "      <td>112542.58</td>\n",
              "      <td>0</td>\n",
              "    </tr>\n",
              "    <tr>\n",
              "      <th>2</th>\n",
              "      <td>3</td>\n",
              "      <td>15619304</td>\n",
              "      <td>Onio</td>\n",
              "      <td>502</td>\n",
              "      <td>France</td>\n",
              "      <td>Female</td>\n",
              "      <td>42</td>\n",
              "      <td>8</td>\n",
              "      <td>159660.80</td>\n",
              "      <td>3</td>\n",
              "      <td>1</td>\n",
              "      <td>0</td>\n",
              "      <td>113931.57</td>\n",
              "      <td>1</td>\n",
              "    </tr>\n",
              "    <tr>\n",
              "      <th>3</th>\n",
              "      <td>4</td>\n",
              "      <td>15701354</td>\n",
              "      <td>Boni</td>\n",
              "      <td>699</td>\n",
              "      <td>France</td>\n",
              "      <td>Female</td>\n",
              "      <td>39</td>\n",
              "      <td>1</td>\n",
              "      <td>0.00</td>\n",
              "      <td>2</td>\n",
              "      <td>0</td>\n",
              "      <td>0</td>\n",
              "      <td>93826.63</td>\n",
              "      <td>0</td>\n",
              "    </tr>\n",
              "    <tr>\n",
              "      <th>4</th>\n",
              "      <td>5</td>\n",
              "      <td>15737888</td>\n",
              "      <td>Mitchell</td>\n",
              "      <td>850</td>\n",
              "      <td>Spain</td>\n",
              "      <td>Female</td>\n",
              "      <td>43</td>\n",
              "      <td>2</td>\n",
              "      <td>125510.82</td>\n",
              "      <td>1</td>\n",
              "      <td>1</td>\n",
              "      <td>1</td>\n",
              "      <td>79084.10</td>\n",
              "      <td>0</td>\n",
              "    </tr>\n",
              "  </tbody>\n",
              "</table>\n",
              "</div>\n",
              "      <button class=\"colab-df-convert\" onclick=\"convertToInteractive('df-2baff7c3-86de-480c-ae2e-3fabdeffd590')\"\n",
              "              title=\"Convert this dataframe to an interactive table.\"\n",
              "              style=\"display:none;\">\n",
              "        \n",
              "  <svg xmlns=\"http://www.w3.org/2000/svg\" height=\"24px\"viewBox=\"0 0 24 24\"\n",
              "       width=\"24px\">\n",
              "    <path d=\"M0 0h24v24H0V0z\" fill=\"none\"/>\n",
              "    <path d=\"M18.56 5.44l.94 2.06.94-2.06 2.06-.94-2.06-.94-.94-2.06-.94 2.06-2.06.94zm-11 1L8.5 8.5l.94-2.06 2.06-.94-2.06-.94L8.5 2.5l-.94 2.06-2.06.94zm10 10l.94 2.06.94-2.06 2.06-.94-2.06-.94-.94-2.06-.94 2.06-2.06.94z\"/><path d=\"M17.41 7.96l-1.37-1.37c-.4-.4-.92-.59-1.43-.59-.52 0-1.04.2-1.43.59L10.3 9.45l-7.72 7.72c-.78.78-.78 2.05 0 2.83L4 21.41c.39.39.9.59 1.41.59.51 0 1.02-.2 1.41-.59l7.78-7.78 2.81-2.81c.8-.78.8-2.07 0-2.86zM5.41 20L4 18.59l7.72-7.72 1.47 1.35L5.41 20z\"/>\n",
              "  </svg>\n",
              "      </button>\n",
              "      \n",
              "  <style>\n",
              "    .colab-df-container {\n",
              "      display:flex;\n",
              "      flex-wrap:wrap;\n",
              "      gap: 12px;\n",
              "    }\n",
              "\n",
              "    .colab-df-convert {\n",
              "      background-color: #E8F0FE;\n",
              "      border: none;\n",
              "      border-radius: 50%;\n",
              "      cursor: pointer;\n",
              "      display: none;\n",
              "      fill: #1967D2;\n",
              "      height: 32px;\n",
              "      padding: 0 0 0 0;\n",
              "      width: 32px;\n",
              "    }\n",
              "\n",
              "    .colab-df-convert:hover {\n",
              "      background-color: #E2EBFA;\n",
              "      box-shadow: 0px 1px 2px rgba(60, 64, 67, 0.3), 0px 1px 3px 1px rgba(60, 64, 67, 0.15);\n",
              "      fill: #174EA6;\n",
              "    }\n",
              "\n",
              "    [theme=dark] .colab-df-convert {\n",
              "      background-color: #3B4455;\n",
              "      fill: #D2E3FC;\n",
              "    }\n",
              "\n",
              "    [theme=dark] .colab-df-convert:hover {\n",
              "      background-color: #434B5C;\n",
              "      box-shadow: 0px 1px 3px 1px rgba(0, 0, 0, 0.15);\n",
              "      filter: drop-shadow(0px 1px 2px rgba(0, 0, 0, 0.3));\n",
              "      fill: #FFFFFF;\n",
              "    }\n",
              "  </style>\n",
              "\n",
              "      <script>\n",
              "        const buttonEl =\n",
              "          document.querySelector('#df-2baff7c3-86de-480c-ae2e-3fabdeffd590 button.colab-df-convert');\n",
              "        buttonEl.style.display =\n",
              "          google.colab.kernel.accessAllowed ? 'block' : 'none';\n",
              "\n",
              "        async function convertToInteractive(key) {\n",
              "          const element = document.querySelector('#df-2baff7c3-86de-480c-ae2e-3fabdeffd590');\n",
              "          const dataTable =\n",
              "            await google.colab.kernel.invokeFunction('convertToInteractive',\n",
              "                                                     [key], {});\n",
              "          if (!dataTable) return;\n",
              "\n",
              "          const docLinkHtml = 'Like what you see? Visit the ' +\n",
              "            '<a target=\"_blank\" href=https://colab.research.google.com/notebooks/data_table.ipynb>data table notebook</a>'\n",
              "            + ' to learn more about interactive tables.';\n",
              "          element.innerHTML = '';\n",
              "          dataTable['output_type'] = 'display_data';\n",
              "          await google.colab.output.renderOutput(dataTable, element);\n",
              "          const docLink = document.createElement('div');\n",
              "          docLink.innerHTML = docLinkHtml;\n",
              "          element.appendChild(docLink);\n",
              "        }\n",
              "      </script>\n",
              "    </div>\n",
              "  </div>\n",
              "  "
            ]
          },
          "metadata": {},
          "execution_count": 53
        }
      ]
    },
    {
      "cell_type": "code",
      "source": [
        "## Regression\n",
        "## Divide the dataset into independent and dependent features\n",
        "\n",
        "X1=df[['CreditScore', 'Geography',\n",
        "       'Gender', 'Age', 'Tenure', 'Balance', 'NumOfProducts', 'HasCrCard',\n",
        "       'IsActiveMember','Exited']]\n",
        "y1=df.iloc[:,12]"
      ],
      "metadata": {
        "id": "qYgD6voPzgab"
      },
      "execution_count": null,
      "outputs": []
    },
    {
      "cell_type": "code",
      "source": [
        "## Ferature Engineering \n",
        "geography=pd.get_dummies(X1['Geography'],drop_first=True)\n",
        "gender=pd.get_dummies(X1['Gender'],drop_first=True)\n",
        "## concatenate these variables with dataframe\n",
        "X1=X1.drop(['Geography','Gender'],axis=1)\n",
        "X1=pd.concat([X1,geography,gender],axis=1) \n",
        "#Splitting the dataset into Training set and Test Set\n",
        "from sklearn.model_selection import train_test_split\n",
        "\n",
        "X1_train,X1_test,y1_train,y1_test=train_test_split(X1,y1,test_size=0.2,random_state=0)\n",
        "\n",
        "#feature Scaling\n",
        "\n",
        "from sklearn.preprocessing import StandardScaler\n",
        "sc =StandardScaler()\n",
        "X1_train=sc.fit_transform(X_train)\n",
        "X1_test=sc.transform(X_test)\n",
        "\n",
        "### Lets initialize the ANN\n",
        "regressor=Sequential()\n",
        "## Adding the input Layer and first hidden layer\n",
        "regressor.add(Dense(10,input_shape=(11,),activation='relu'))\n",
        "\n",
        "\n",
        "# adding the first hidden layer\n",
        "regressor.add(Dense(units=10,activation='relu'))\n",
        "#regressor.add(Dropout(0.2))\n",
        "\n",
        "##adding the second hidden layer\n",
        "regressor.add(Dense(units=10,activation='relu'))\n",
        "#regressor.add(Dropout(0.3))\n",
        "\n",
        "##  Adding the output layer\n",
        "regressor.add(Dense(1))\n"
      ],
      "metadata": {
        "id": "tIWGh3Mkzgct"
      },
      "execution_count": null,
      "outputs": []
    },
    {
      "cell_type": "code",
      "source": [
        "regressor.summary()"
      ],
      "metadata": {
        "colab": {
          "base_uri": "https://localhost:8080/"
        },
        "id": "r0OBRp5bzggK",
        "outputId": "9bc73db4-4cc5-4fec-b8f1-a5969759526e"
      },
      "execution_count": null,
      "outputs": [
        {
          "output_type": "stream",
          "name": "stdout",
          "text": [
            "Model: \"sequential_3\"\n",
            "_________________________________________________________________\n",
            " Layer (type)                Output Shape              Param #   \n",
            "=================================================================\n",
            " dense_4 (Dense)             (None, 10)                120       \n",
            "                                                                 \n",
            " dense_5 (Dense)             (None, 10)                110       \n",
            "                                                                 \n",
            " dense_6 (Dense)             (None, 10)                110       \n",
            "                                                                 \n",
            " dense_7 (Dense)             (None, 1)                 11        \n",
            "                                                                 \n",
            "=================================================================\n",
            "Total params: 351\n",
            "Trainable params: 351\n",
            "Non-trainable params: 0\n",
            "_________________________________________________________________\n"
          ]
        }
      ]
    },
    {
      "cell_type": "code",
      "source": [
        "mse=tf.keras.losses.MeanSquaredError(\n",
        "    name='mean_squared_error'\n",
        ")\n",
        "metrics=tf.keras.metrics.MeanSquaredError(\n",
        "    name='mean_squared_error', dtype=None\n",
        ")"
      ],
      "metadata": {
        "id": "QcMc_XNxzgj9"
      },
      "execution_count": null,
      "outputs": []
    },
    {
      "cell_type": "code",
      "source": [
        "regressor.compile(optimizer=opt,loss=mse,metrics=['mae'])\n",
        "\n",
        "## Early Stopping\n",
        "import tensorflow as tf\n",
        "early_stopping=tf.keras.callbacks.EarlyStopping(\n",
        "    monitor=\"mae\",\n",
        "    patience=15\n",
        "   \n",
        ")"
      ],
      "metadata": {
        "id": "Jgmjp7PE1qkI"
      },
      "execution_count": null,
      "outputs": []
    },
    {
      "cell_type": "code",
      "source": [
        "model_history1=regressor.fit(X1_train,y1_train,validation_data=(X1_test,y1_test),batch_size=10,epochs=100,callbacks=early_stopping)"
      ],
      "metadata": {
        "colab": {
          "base_uri": "https://localhost:8080/"
        },
        "id": "kWo_DBe61qr-",
        "outputId": "42be5a07-01cd-46ea-baae-7c10a57985e4"
      },
      "execution_count": null,
      "outputs": [
        {
          "output_type": "stream",
          "name": "stdout",
          "text": [
            "Epoch 1/100\n",
            "800/800 [==============================] - 2s 3ms/step - loss: 1145105280.0000 - mae: 15137.2939 - val_loss: 40739308.0000 - val_mae: 4941.9644\n",
            "Epoch 2/100\n",
            "800/800 [==============================] - 2s 3ms/step - loss: 23222946.0000 - mae: 3594.7229 - val_loss: 11288425.0000 - val_mae: 2416.8335\n",
            "Epoch 3/100\n",
            "800/800 [==============================] - 2s 2ms/step - loss: 5854338.5000 - mae: 1634.4263 - val_loss: 2506050.5000 - val_mae: 983.5160\n",
            "Epoch 4/100\n",
            "800/800 [==============================] - 2s 3ms/step - loss: 1326126.8750 - mae: 671.3835 - val_loss: 589431.3750 - val_mae: 447.8269\n",
            "Epoch 5/100\n",
            "800/800 [==============================] - 2s 2ms/step - loss: 328996.2500 - mae: 274.6479 - val_loss: 156085.6875 - val_mae: 200.2054\n",
            "Epoch 6/100\n",
            "800/800 [==============================] - 2s 2ms/step - loss: 92813.1406 - mae: 123.3803 - val_loss: 47223.9023 - val_mae: 63.1019\n",
            "Epoch 7/100\n",
            "800/800 [==============================] - 2s 2ms/step - loss: 30437.2461 - mae: 65.1567 - val_loss: 20590.3887 - val_mae: 73.0869\n",
            "Epoch 8/100\n",
            "800/800 [==============================] - 2s 3ms/step - loss: 11294.0186 - mae: 38.1107 - val_loss: 6933.6162 - val_mae: 19.0191\n",
            "Epoch 9/100\n",
            "800/800 [==============================] - 2s 2ms/step - loss: 5277.9116 - mae: 29.0849 - val_loss: 3841.7166 - val_mae: 19.8909\n",
            "Epoch 10/100\n",
            "800/800 [==============================] - 2s 3ms/step - loss: 4850.8408 - mae: 39.0104 - val_loss: 12643.5322 - val_mae: 83.8236\n",
            "Epoch 11/100\n",
            "800/800 [==============================] - 2s 2ms/step - loss: 63359.7227 - mae: 170.2841 - val_loss: 9505.2334 - val_mae: 71.0610\n",
            "Epoch 12/100\n",
            "800/800 [==============================] - 3s 4ms/step - loss: 53308.9375 - mae: 144.4507 - val_loss: 87857.9766 - val_mae: 239.2083\n",
            "Epoch 13/100\n",
            "800/800 [==============================] - 3s 4ms/step - loss: 44402.5156 - mae: 151.1495 - val_loss: 48848.2266 - val_mae: 181.2110\n",
            "Epoch 14/100\n",
            "800/800 [==============================] - 2s 2ms/step - loss: 67237.6562 - mae: 167.7906 - val_loss: 19431.1523 - val_mae: 110.2068\n",
            "Epoch 15/100\n",
            "800/800 [==============================] - 2s 3ms/step - loss: 99765.1562 - mae: 162.7460 - val_loss: 7769.5879 - val_mae: 69.5043\n",
            "Epoch 16/100\n",
            "800/800 [==============================] - 3s 3ms/step - loss: 1206.4148 - mae: 16.4760 - val_loss: 738.0694 - val_mae: 6.9970\n",
            "Epoch 17/100\n",
            "800/800 [==============================] - 2s 3ms/step - loss: 52521.4883 - mae: 125.4172 - val_loss: 33612.0742 - val_mae: 145.1163\n",
            "Epoch 18/100\n",
            "800/800 [==============================] - 2s 2ms/step - loss: 60151.1055 - mae: 135.2142 - val_loss: 643.0665 - val_mae: 6.3231\n",
            "Epoch 19/100\n",
            "800/800 [==============================] - 2s 2ms/step - loss: 54251.3398 - mae: 136.3745 - val_loss: 269559.6562 - val_mae: 420.5772\n",
            "Epoch 20/100\n",
            "800/800 [==============================] - 2s 3ms/step - loss: 31974.3477 - mae: 113.5341 - val_loss: 24568.0605 - val_mae: 126.6942\n",
            "Epoch 21/100\n",
            "800/800 [==============================] - 2s 2ms/step - loss: 109835.6406 - mae: 164.0718 - val_loss: 660.6294 - val_mae: 9.7505\n",
            "Epoch 22/100\n",
            "800/800 [==============================] - 2s 3ms/step - loss: 3279.9226 - mae: 35.4431 - val_loss: 40161.7852 - val_mae: 166.9245\n",
            "Epoch 23/100\n",
            "800/800 [==============================] - 2s 3ms/step - loss: 80957.3516 - mae: 189.0337 - val_loss: 717.7097 - val_mae: 15.4271\n",
            "Epoch 24/100\n",
            "800/800 [==============================] - 2s 2ms/step - loss: 125149.0547 - mae: 117.6979 - val_loss: 1228503.5000 - val_mae: 921.6541\n",
            "Epoch 25/100\n",
            "800/800 [==============================] - 2s 2ms/step - loss: 29364.4453 - mae: 47.2835 - val_loss: 388.2120 - val_mae: 3.3753\n",
            "Epoch 26/100\n",
            "800/800 [==============================] - 2s 3ms/step - loss: 14967.6777 - mae: 43.4953 - val_loss: 459313.8750 - val_mae: 542.9711\n",
            "Epoch 27/100\n",
            "800/800 [==============================] - 2s 3ms/step - loss: 74461.4141 - mae: 117.5250 - val_loss: 1006.4345 - val_mae: 21.2563\n",
            "Epoch 28/100\n",
            "800/800 [==============================] - 2s 3ms/step - loss: 57460.4375 - mae: 162.9441 - val_loss: 126319.5078 - val_mae: 284.7050\n",
            "Epoch 29/100\n",
            "800/800 [==============================] - 2s 2ms/step - loss: 54183.1562 - mae: 124.0502 - val_loss: 149334.0000 - val_mae: 301.4130\n",
            "Epoch 30/100\n",
            "800/800 [==============================] - 2s 3ms/step - loss: 22328.0234 - mae: 83.9604 - val_loss: 510598.5312 - val_mae: 557.0014\n",
            "Epoch 31/100\n",
            "800/800 [==============================] - 2s 2ms/step - loss: 75714.3516 - mae: 112.1255 - val_loss: 4825.9731 - val_mae: 55.3525\n"
          ]
        }
      ]
    },
    {
      "cell_type": "code",
      "source": [
        "y_pred=regressor.predict(X_test)"
      ],
      "metadata": {
        "colab": {
          "base_uri": "https://localhost:8080/"
        },
        "id": "xP8eKko519Ko",
        "outputId": "e8f0fb6c-c54b-41a2-fb8b-d0d28ec377b0"
      },
      "execution_count": null,
      "outputs": [
        {
          "output_type": "stream",
          "name": "stdout",
          "text": [
            "63/63 [==============================] - 0s 1ms/step\n"
          ]
        }
      ]
    },
    {
      "cell_type": "code",
      "source": [
        "from sklearn.metrics import r2_score\n",
        "\n",
        "print(r2_score(y_test,y_pred))"
      ],
      "metadata": {
        "colab": {
          "base_uri": "https://localhost:8080/"
        },
        "id": "vBNovWDL2Q8g",
        "outputId": "9de59c5b-0959-464b-f037-f90f31ae2d06"
      },
      "execution_count": null,
      "outputs": [
        {
          "output_type": "stream",
          "name": "stdout",
          "text": [
            "-82040796199.99733\n"
          ]
        }
      ]
    }
  ]
}